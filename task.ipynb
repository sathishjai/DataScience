{
 "cells": [
  {
   "cell_type": "code",
   "execution_count": 58,
   "id": "4dfc2311",
   "metadata": {},
   "outputs": [
    {
     "data": {
      "text/html": [
       "<div>\n",
       "<style scoped>\n",
       "    .dataframe tbody tr th:only-of-type {\n",
       "        vertical-align: middle;\n",
       "    }\n",
       "\n",
       "    .dataframe tbody tr th {\n",
       "        vertical-align: top;\n",
       "    }\n",
       "\n",
       "    .dataframe thead th {\n",
       "        text-align: right;\n",
       "    }\n",
       "</style>\n",
       "<table border=\"1\" class=\"dataframe\">\n",
       "  <thead>\n",
       "    <tr style=\"text-align: right;\">\n",
       "      <th></th>\n",
       "      <th>S.No.</th>\n",
       "      <th>Name</th>\n",
       "      <th>Location</th>\n",
       "      <th>Year</th>\n",
       "      <th>Kilometers_Driven</th>\n",
       "      <th>Fuel_Type</th>\n",
       "      <th>Transmission</th>\n",
       "      <th>Owner_Type</th>\n",
       "      <th>Mileage</th>\n",
       "      <th>Engine</th>\n",
       "      <th>Power</th>\n",
       "      <th>Seats</th>\n",
       "      <th>New_Price</th>\n",
       "      <th>Price</th>\n",
       "    </tr>\n",
       "  </thead>\n",
       "  <tbody>\n",
       "    <tr>\n",
       "      <th>0</th>\n",
       "      <td>0</td>\n",
       "      <td>Maruti Wagon R LXI CNG</td>\n",
       "      <td>Mumbai</td>\n",
       "      <td>2010</td>\n",
       "      <td>72000</td>\n",
       "      <td>CNG</td>\n",
       "      <td>Manual</td>\n",
       "      <td>First</td>\n",
       "      <td>26.6 km/kg</td>\n",
       "      <td>998 CC</td>\n",
       "      <td>58.16 bhp</td>\n",
       "      <td>5.0</td>\n",
       "      <td>NaN</td>\n",
       "      <td>1.75</td>\n",
       "    </tr>\n",
       "    <tr>\n",
       "      <th>1</th>\n",
       "      <td>1</td>\n",
       "      <td>Hyundai Creta 1.6 CRDi SX Option</td>\n",
       "      <td>Pune</td>\n",
       "      <td>2015</td>\n",
       "      <td>41000</td>\n",
       "      <td>Diesel</td>\n",
       "      <td>Manual</td>\n",
       "      <td>First</td>\n",
       "      <td>19.67 kmpl</td>\n",
       "      <td>1582 CC</td>\n",
       "      <td>126.2 bhp</td>\n",
       "      <td>5.0</td>\n",
       "      <td>NaN</td>\n",
       "      <td>12.50</td>\n",
       "    </tr>\n",
       "    <tr>\n",
       "      <th>2</th>\n",
       "      <td>2</td>\n",
       "      <td>Honda Jazz V</td>\n",
       "      <td>Chennai</td>\n",
       "      <td>2011</td>\n",
       "      <td>46000</td>\n",
       "      <td>Petrol</td>\n",
       "      <td>Manual</td>\n",
       "      <td>First</td>\n",
       "      <td>18.2 kmpl</td>\n",
       "      <td>1199 CC</td>\n",
       "      <td>88.7 bhp</td>\n",
       "      <td>5.0</td>\n",
       "      <td>8.61 Lakh</td>\n",
       "      <td>4.50</td>\n",
       "    </tr>\n",
       "    <tr>\n",
       "      <th>3</th>\n",
       "      <td>3</td>\n",
       "      <td>Maruti Ertiga VDI</td>\n",
       "      <td>Chennai</td>\n",
       "      <td>2012</td>\n",
       "      <td>87000</td>\n",
       "      <td>Diesel</td>\n",
       "      <td>Manual</td>\n",
       "      <td>First</td>\n",
       "      <td>20.77 kmpl</td>\n",
       "      <td>1248 CC</td>\n",
       "      <td>88.76 bhp</td>\n",
       "      <td>7.0</td>\n",
       "      <td>NaN</td>\n",
       "      <td>6.00</td>\n",
       "    </tr>\n",
       "    <tr>\n",
       "      <th>4</th>\n",
       "      <td>4</td>\n",
       "      <td>Audi A4 New 2.0 TDI Multitronic</td>\n",
       "      <td>Coimbatore</td>\n",
       "      <td>2013</td>\n",
       "      <td>40670</td>\n",
       "      <td>Diesel</td>\n",
       "      <td>Automatic</td>\n",
       "      <td>Second</td>\n",
       "      <td>15.2 kmpl</td>\n",
       "      <td>1968 CC</td>\n",
       "      <td>140.8 bhp</td>\n",
       "      <td>5.0</td>\n",
       "      <td>NaN</td>\n",
       "      <td>17.74</td>\n",
       "    </tr>\n",
       "  </tbody>\n",
       "</table>\n",
       "</div>"
      ],
      "text/plain": [
       "   S.No.                              Name    Location  Year  \\\n",
       "0      0            Maruti Wagon R LXI CNG      Mumbai  2010   \n",
       "1      1  Hyundai Creta 1.6 CRDi SX Option        Pune  2015   \n",
       "2      2                      Honda Jazz V     Chennai  2011   \n",
       "3      3                 Maruti Ertiga VDI     Chennai  2012   \n",
       "4      4   Audi A4 New 2.0 TDI Multitronic  Coimbatore  2013   \n",
       "\n",
       "   Kilometers_Driven Fuel_Type Transmission Owner_Type     Mileage   Engine  \\\n",
       "0              72000       CNG       Manual      First  26.6 km/kg   998 CC   \n",
       "1              41000    Diesel       Manual      First  19.67 kmpl  1582 CC   \n",
       "2              46000    Petrol       Manual      First   18.2 kmpl  1199 CC   \n",
       "3              87000    Diesel       Manual      First  20.77 kmpl  1248 CC   \n",
       "4              40670    Diesel    Automatic     Second   15.2 kmpl  1968 CC   \n",
       "\n",
       "       Power  Seats  New_Price  Price  \n",
       "0  58.16 bhp    5.0        NaN   1.75  \n",
       "1  126.2 bhp    5.0        NaN  12.50  \n",
       "2   88.7 bhp    5.0  8.61 Lakh   4.50  \n",
       "3  88.76 bhp    7.0        NaN   6.00  \n",
       "4  140.8 bhp    5.0        NaN  17.74  "
      ]
     },
     "execution_count": 58,
     "metadata": {},
     "output_type": "execute_result"
    }
   ],
   "source": [
    "import pandas as pd\n",
    "import numpy as np\n",
    "\n",
    "df = pd.read_csv(r'C:\\Users\\tkmra\\Downloads\\used_cars_data.csv')\n",
    "df.head()\n"
   ]
  },
  {
   "cell_type": "code",
   "execution_count": 59,
   "id": "56904942",
   "metadata": {},
   "outputs": [
    {
     "name": "stdout",
     "output_type": "stream",
     "text": [
      "\n",
      "Percentage of missing values for each column:\n",
      "S.No.                 0.000000\n",
      "Name                  0.000000\n",
      "Location              0.000000\n",
      "Year                  0.000000\n",
      "Kilometers_Driven     0.000000\n",
      "Fuel_Type             0.000000\n",
      "Transmission          0.000000\n",
      "Owner_Type            0.000000\n",
      "Mileage               0.027575\n",
      "Engine                0.634220\n",
      "Power                 0.634220\n",
      "Seats                 0.730732\n",
      "New_Price            86.129877\n",
      "Price                17.013650\n",
      "dtype: float64\n"
     ]
    }
   ],
   "source": [
    "\n",
    "missing_percentage = df.isnull().mean() * 100\n",
    "print(\"\\nPercentage of missing values for each column:\")\n",
    "print(missing_percentage)\n",
    "\n"
   ]
  },
  {
   "cell_type": "code",
   "execution_count": 73,
   "id": "842ce941",
   "metadata": {},
   "outputs": [
    {
     "name": "stdout",
     "output_type": "stream",
     "text": [
      "\n",
      "Columns with less than 20% missing values to be imputed:\n",
      "Index(['S.No.', 'Name', 'Location', 'Year', 'Kilometers_Driven', 'Fuel_Type',\n",
      "       'Transmission', 'Owner_Type', 'Mileage', 'Engine', 'Power', 'Seats',\n",
      "       'Price'],\n",
      "      dtype='object')\n"
     ]
    }
   ],
   "source": [
    "\n",
    "columns_to_impute = missing_percentage[missing_percentage < 20].index\n",
    "print(\"\\nColumns with less than 20% missing values to be imputed:\")\n",
    "print(columns_to_impute)"
   ]
  },
  {
   "cell_type": "code",
   "execution_count": 72,
   "id": "e8ebe4ea",
   "metadata": {},
   "outputs": [
    {
     "name": "stdout",
     "output_type": "stream",
     "text": [
      "Filling missing values in column 'S.No.' with median: 3626.0\n",
      "Filling missing values in column 'Name' with mode: Mahindra XUV500 W8 2WD\n",
      "Filling missing values in column 'Location' with mode: Mumbai\n",
      "Filling missing values in column 'Year' with median: 2014.0\n",
      "Filling missing values in column 'Kilometers_Driven' with median: 53416.0\n",
      "Filling missing values in column 'Fuel_Type' with mode: Diesel\n",
      "Filling missing values in column 'Transmission' with mode: Manual\n",
      "Filling missing values in column 'Owner_Type' with mode: First\n",
      "Filling missing values in column 'Mileage' with median: 18.16\n",
      "Filling missing values in column 'Engine' with median: 1462.0\n",
      "Filling missing values in column 'Power' with median: 93.0\n",
      "Filling missing values in column 'Seats' with median: 5.0\n",
      "Filling missing values in column 'Price' with median: 5.64\n"
     ]
    }
   ],
   "source": [
    "for column in columns_to_impute:\n",
    "    if df[column].dtype == 'object':\n",
    "        mode_value = df[column].mode()[0]\n",
    "        print(f\"Filling missing values in column '{column}' with mode: {mode_value}\")\n",
    "        df[column].fillna(mode_value, inplace=True)\n",
    "    else:\n",
    "        median_value = df[column].median()\n",
    "        print(f\"Filling missing values in column '{column}' with median: {median_value}\")\n",
    "        df[column].fillna(median_value, inplace=True)\n"
   ]
  },
  {
   "cell_type": "code",
   "execution_count": 74,
   "id": "e469b73b",
   "metadata": {},
   "outputs": [
    {
     "name": "stdout",
     "output_type": "stream",
     "text": [
      "\n",
      "Dataset info after imputation:\n",
      "<class 'pandas.core.frame.DataFrame'>\n",
      "RangeIndex: 7253 entries, 0 to 7252\n",
      "Data columns (total 14 columns):\n",
      " #   Column             Non-Null Count  Dtype  \n",
      "---  ------             --------------  -----  \n",
      " 0   S.No.              7253 non-null   int64  \n",
      " 1   Name               7253 non-null   object \n",
      " 2   Location           7253 non-null   object \n",
      " 3   Year               7253 non-null   int64  \n",
      " 4   Kilometers_Driven  7253 non-null   int64  \n",
      " 5   Fuel_Type          7253 non-null   object \n",
      " 6   Transmission       7253 non-null   object \n",
      " 7   Owner_Type         7253 non-null   object \n",
      " 8   Mileage            7253 non-null   float64\n",
      " 9   Engine             7253 non-null   float64\n",
      " 10  Power              7253 non-null   float64\n",
      " 11  Seats              7253 non-null   float64\n",
      " 12  New_Price          1006 non-null   object \n",
      " 13  Price              7253 non-null   float64\n",
      "dtypes: float64(5), int64(3), object(6)\n",
      "memory usage: 793.4+ KB\n",
      "None\n"
     ]
    }
   ],
   "source": [
    "print(\"\\nDataset info after imputation:\")\n",
    "print(df.info())\n"
   ]
  },
  {
   "cell_type": "code",
   "execution_count": 61,
   "id": "a548a51b",
   "metadata": {},
   "outputs": [
    {
     "name": "stdout",
     "output_type": "stream",
     "text": [
      "\n",
      "Percentage of missing values after imputation:\n",
      "S.No.                 0.000000\n",
      "Name                  0.000000\n",
      "Location              0.000000\n",
      "Year                  0.000000\n",
      "Kilometers_Driven     0.000000\n",
      "Fuel_Type             0.000000\n",
      "Transmission          0.000000\n",
      "Owner_Type            0.000000\n",
      "Mileage               0.000000\n",
      "Engine                0.000000\n",
      "Power                 0.000000\n",
      "Seats                 0.000000\n",
      "New_Price            86.129877\n",
      "Price                 0.000000\n",
      "dtype: float64\n"
     ]
    }
   ],
   "source": [
    "\n",
    "print(\"\\nPercentage of missing values after imputation:\")\n",
    "print(df.isnull().mean() * 100)"
   ]
  },
  {
   "cell_type": "code",
   "execution_count": 62,
   "id": "5daf7df7",
   "metadata": {},
   "outputs": [
    {
     "name": "stderr",
     "output_type": "stream",
     "text": [
      "C:\\Users\\tkmra\\anaconda3\\Lib\\site-packages\\seaborn\\_oldcore.py:1119: FutureWarning: use_inf_as_na option is deprecated and will be removed in a future version. Convert inf values to NaN before operating instead.\n",
      "  with pd.option_context('mode.use_inf_as_na', True):\n"
     ]
    },
    {
     "data": {
      "image/png": "[encoded data removed]",
      "text/plain": [
       "<Figure size 1000x600 with 1 Axes>"
      ]
     },
     "metadata": {},
     "output_type": "display_data"
    }
   ],
   "source": [
    "import matplotlib.pyplot as plt\n",
    "import seaborn as sns\n",
    "\n",
    "# Plotting the distribution of car prices\n",
    "plt.figure(figsize=(10, 6))\n",
    "sns.histplot(df['Price'], kde=True, color='blue', bins=30)\n",
    "plt.title('Distribution of Car Prices')\n",
    "plt.xlabel('Price (in lakhs)')\n",
    "plt.ylabel('Frequency')\n",
    "plt.show()"
   ]
  },
  {
   "cell_type": "code",
   "execution_count": 70,
   "id": "d3e3d128",
   "metadata": {},
   "outputs": [
    {
     "name": "stdout",
     "output_type": "stream",
     "text": [
      "Correlation coefficients with Price:\n",
      "Price                1.000000\n",
      "Year                 0.276009\n",
      "Kilometers_Driven   -0.011062\n",
      "Mileage             -0.278215\n",
      "Name: Price, dtype: float64\n"
     ]
    }
   ],
   "source": [
    "\n",
    "correlation_price = df[['Price', 'Year', 'Kilometers_Driven', 'Mileage']].corr()['Price']\n",
    "print(\"Correlation coefficients with Price:\")\n",
    "print(correlation_price)"
   ]
  },
  {
   "cell_type": "code",
   "execution_count": 68,
   "id": "c068f156",
   "metadata": {},
   "outputs": [
    {
     "name": "stdout",
     "output_type": "stream",
     "text": [
      "Correlation coefficients with Price:\n",
      "Price                1.000000\n",
      "Power                0.703036\n",
      "Engine               0.601381\n",
      "Mileage              0.278215\n",
      "Year                 0.276009\n",
      "Seats                0.047136\n",
      "Kilometers_Driven    0.011062\n",
      "Name: Price, dtype: float64\n"
     ]
    }
   ],
   "source": [
    "\n",
    "numerical_features = ['Year', 'Kilometers_Driven', 'Mileage', 'Engine', 'Power', 'Seats']\n",
    "\n",
    "correlation_price = df[numerical_features + ['Price']].corr()['Price']\n",
    "\n",
    "sorted_correlation = correlation_price.abs().sort_values(ascending=False)\n",
    "\n",
    "print(\"Correlation coefficients with Price:\")\n",
    "print(sorted_correlation)\n"
   ]
  },
  {
   "cell_type": "code",
   "execution_count": 69,
   "id": "14b5f974",
   "metadata": {
    "scrolled": true
   },
   "outputs": [
    {
     "name": "stdout",
     "output_type": "stream",
     "text": [
      "\n",
      "ANOVA Test for Fuel_Type\n",
      "F-Statistic: 167.60526785832084\n",
      "P-Value: 1.7895904293461928e-137\n",
      "\n",
      "ANOVA Test for Transmission\n",
      "F-Statistic: 2872.0884035354015\n",
      "P-Value: 0.0\n",
      "\n",
      "ANOVA Test for Owner_Type\n",
      "F-Statistic: 18.47128662948286\n",
      "P-Value: 6.2024912738614114e-12\n"
     ]
    }
   ],
   "source": [
    "# Categorical features\n",
    "\n",
    "for feature in categorical_features:\n",
    "    groups = df.groupby(feature)['Price'].apply(list)\n",
    "    f_statistic, p_value = f_oneway(*groups)\n",
    "    print(\"\\nANOVA Test for\", feature)\n",
    "    print(\"F-Statistic:\", f_statistic)\n",
    "    print(\"P-Value:\", p_value)"
   ]
  },
  {
   "cell_type": "code",
   "execution_count": null,
   "id": "6f35e241",
   "metadata": {},
   "outputs": [],
   "source": []
  }
 ],
 "metadata": {
  "kernelspec": {
   "display_name": "Python 3 (ipykernel)",
   "language": "python",
   "name": "python3"
  },
  "language_info": {
   "codemirror_mode": {
    "name": "ipython",
    "version": 3
   },
   "file_extension": ".py",
   "mimetype": "text/x-python",
   "name": "python",
   "nbconvert_exporter": "python",
   "pygments_lexer": "ipython3",
   "version": "3.10.12"
  }
 },
 "nbformat": 4,
 "nbformat_minor": 5
}
