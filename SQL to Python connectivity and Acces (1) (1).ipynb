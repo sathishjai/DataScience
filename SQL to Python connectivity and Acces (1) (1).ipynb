{
 "cells": [
  {
   "cell_type": "code",
   "execution_count": 1,
   "id": "520f6745",
   "metadata": {},
   "outputs": [],
   "source": [
    "import mysql.connector\n",
    "from mysql.connector import Error\n",
    "import pandas as pd"
   ]
  },
  {
   "cell_type": "code",
   "execution_count": 13,
   "id": "f47ec535",
   "metadata": {},
   "outputs": [
    {
     "name": "stdout",
     "output_type": "stream",
     "text": [
      "My Sql Database Connection Successfull\n"
     ]
    }
   ],
   "source": [
    "def serverconnection(host_name,user_name,password):\n",
    "    connection=None\n",
    "    try:\n",
    "        connection= mysql.connector.connect(\n",
    "        host=host_name,\n",
    "        user=user_name,\n",
    "        passwd=password)\n",
    "        print(\"My Sql Database Connection Successfull\")\n",
    "    except Error as err:\n",
    "        print(F\"Error:'{err}'\")\n",
    "    return connection\n",
    "pw=\"admin123\"\n",
    "db=\"My_sql_\"\n",
    "connection=serverconnection(\"localhost\",\"root\",pw)"
   ]
  },
  {
   "cell_type": "code",
   "execution_count": 8,
   "id": "0abd858d",
   "metadata": {},
   "outputs": [
    {
     "name": "stdout",
     "output_type": "stream",
     "text": [
      "database create successfully\n"
     ]
    }
   ],
   "source": [
    "def createdatabase(connection,query):\n",
    "    cursor = connection.cursor()\n",
    "    try:\n",
    "        cursor.execute(query)\n",
    "        print(\"database create successfully\")\n",
    "    except Error as err:\n",
    "        print(F\"Error:'{err}'\")\n",
    "create_query=\"Create database My_sql_\"\n",
    "createdatabase(connection,create_query)\n",
    "\n",
    "        "
   ]
  },
  {
   "cell_type": "code",
   "execution_count": 9,
   "id": "75b22401",
   "metadata": {},
   "outputs": [],
   "source": [
    "def dbconnection(host_name,user_name,password,db_name):\n",
    "    connection=None\n",
    "    try:\n",
    "        connection= mysql.connector.connect(\n",
    "        host=host_name,\n",
    "        user=user_name,\n",
    "        passwd=password,\n",
    "        database=db_name)\n",
    "        print(\"My Sql Database Connection Successfull\")\n",
    "    except Error as err:\n",
    "        print(F\"Error:'{err}'\")\n",
    "    return connection"
   ]
  },
  {
   "cell_type": "code",
   "execution_count": 10,
   "id": "6f9f29f3",
   "metadata": {},
   "outputs": [],
   "source": [
    "def execute_query(connection,query):\n",
    "    cursor = connection.cursor()\n",
    "    try:\n",
    "        cursor.execute(query)\n",
    "        connection.commit()\n",
    "        print(\"Query was  successfully\")\n",
    "    except Error as err:\n",
    "        print(F\"Error:'{err}'\")"
   ]
  },
  {
   "cell_type": "code",
   "execution_count": 14,
   "id": "248df785",
   "metadata": {},
   "outputs": [
    {
     "name": "stdout",
     "output_type": "stream",
     "text": [
      "My Sql Database Connection Successfull\n",
      "Query was  successfully\n"
     ]
    }
   ],
   "source": [
    "create_order_table=\"\"\"\n",
    "create table orders(\n",
    "order_id int primary key,\n",
    "customer_name varchar(20) not null,\n",
    "product_name varchar(20) not null,\n",
    "date_ordered date,\n",
    "quantity int,\n",
    "unit_price float,\n",
    "phonme_num varchar(20));\n",
    "\"\"\"\n",
    "\n",
    "connection=dbconnection(\"localhost\",\"root\",pw,db)\n",
    "execute_query(connection,create_order_table)"
   ]
  },
  {
   "cell_type": "code",
   "execution_count": 15,
   "id": "0aa11b6c",
   "metadata": {},
   "outputs": [
    {
     "name": "stdout",
     "output_type": "stream",
     "text": [
      "My Sql Database Connection Successfull\n",
      "Query was  successfully\n"
     ]
    }
   ],
   "source": [
    "data_order=\"\"\"\n",
    "insert into orders values(101,'Steve','laptop','2018-06-12',2,800,'6293730802'),\n",
    "(102,'olive','books','2019-07-14',10,12,'8367489124'),\n",
    "(103,'Alan','Trouser','2017-06-11',12,452,'986591056'),\n",
    "(104,'karthik','books','2020-05-11',8,120,'8958557608')\n",
    "\"\"\"\n",
    "connection=dbconnection(\"localhost\",\"root\",pw,db)\n",
    "execute_query(connection,data_order)\n"
   ]
  },
  {
   "cell_type": "code",
   "execution_count": 21,
   "id": "b1566b3b",
   "metadata": {},
   "outputs": [],
   "source": [
    "def read_query(connection,query):\n",
    "    cursor=connection.cursor()\n",
    "    result=None\n",
    "    try:\n",
    "        cursor.execute(query)\n",
    "        result=cursor.fetchall()\n",
    "        return result\n",
    "    except Error as err:\n",
    "        print(F\"Error:'{err}'\")\n",
    "    "
   ]
  },
  {
   "cell_type": "code",
   "execution_count": 22,
   "id": "5f10f0e2",
   "metadata": {},
   "outputs": [
    {
     "name": "stdout",
     "output_type": "stream",
     "text": [
      "My Sql Database Connection Successfull\n",
      "(101, 'Steve', 'laptop', datetime.date(2018, 6, 12), 2, 800.0, '6293730802')\n",
      "(102, 'olive', 'books', datetime.date(2019, 7, 14), 10, 12.0, '8367489124')\n",
      "(103, 'Alan', 'Trouser', datetime.date(2017, 6, 11), 12, 452.0, '986591056')\n",
      "(104, 'karthik', 'books', datetime.date(2020, 5, 11), 8, 120.0, '8958557608')\n"
     ]
    }
   ],
   "source": [
    "q1=\"\"\"\n",
    "select * from orders;\n",
    "\"\"\"\n",
    "connection=dbconnection(\"localhost\",\"root\",pw,db)\n",
    "results=read_query(connection,q1)\n",
    "for result in results:\n",
    "    print(result)\n",
    "\n"
   ]
  },
  {
   "cell_type": "code",
   "execution_count": 24,
   "id": "4a1b27bb",
   "metadata": {},
   "outputs": [
    {
     "data": {
      "text/html": [
       "<div>\n",
       "<style scoped>\n",
       "    .dataframe tbody tr th:only-of-type {\n",
       "        vertical-align: middle;\n",
       "    }\n",
       "\n",
       "    .dataframe tbody tr th {\n",
       "        vertical-align: top;\n",
       "    }\n",
       "\n",
       "    .dataframe thead th {\n",
       "        text-align: right;\n",
       "    }\n",
       "</style>\n",
       "<table border=\"1\" class=\"dataframe\">\n",
       "  <thead>\n",
       "    <tr style=\"text-align: right;\">\n",
       "      <th></th>\n",
       "      <th>order_id</th>\n",
       "      <th>customer_name</th>\n",
       "      <th>product_name</th>\n",
       "      <th>date_ordered</th>\n",
       "      <th>quantity</th>\n",
       "      <th>unit_price</th>\n",
       "      <th>phonme_num</th>\n",
       "    </tr>\n",
       "  </thead>\n",
       "  <tbody>\n",
       "    <tr>\n",
       "      <th>0</th>\n",
       "      <td>101</td>\n",
       "      <td>Steve</td>\n",
       "      <td>laptop</td>\n",
       "      <td>2018-06-12</td>\n",
       "      <td>2</td>\n",
       "      <td>800.0</td>\n",
       "      <td>6293730802</td>\n",
       "    </tr>\n",
       "    <tr>\n",
       "      <th>1</th>\n",
       "      <td>102</td>\n",
       "      <td>olive</td>\n",
       "      <td>books</td>\n",
       "      <td>2019-07-14</td>\n",
       "      <td>10</td>\n",
       "      <td>12.0</td>\n",
       "      <td>8367489124</td>\n",
       "    </tr>\n",
       "    <tr>\n",
       "      <th>2</th>\n",
       "      <td>103</td>\n",
       "      <td>Alan</td>\n",
       "      <td>Trouser</td>\n",
       "      <td>2017-06-11</td>\n",
       "      <td>12</td>\n",
       "      <td>452.0</td>\n",
       "      <td>986591056</td>\n",
       "    </tr>\n",
       "    <tr>\n",
       "      <th>3</th>\n",
       "      <td>104</td>\n",
       "      <td>karthik</td>\n",
       "      <td>books</td>\n",
       "      <td>2020-05-11</td>\n",
       "      <td>8</td>\n",
       "      <td>120.0</td>\n",
       "      <td>8958557608</td>\n",
       "    </tr>\n",
       "  </tbody>\n",
       "</table>\n",
       "</div>"
      ],
      "text/plain": [
       "   order_id customer_name product_name date_ordered  quantity  unit_price  \\\n",
       "0       101         Steve       laptop   2018-06-12         2       800.0   \n",
       "1       102         olive        books   2019-07-14        10        12.0   \n",
       "2       103          Alan      Trouser   2017-06-11        12       452.0   \n",
       "3       104       karthik        books   2020-05-11         8       120.0   \n",
       "\n",
       "   phonme_num  \n",
       "0  6293730802  \n",
       "1  8367489124  \n",
       "2   986591056  \n",
       "3  8958557608  "
      ]
     },
     "metadata": {},
     "output_type": "display_data"
    }
   ],
   "source": [
    "data=[]\n",
    "for result in results:\n",
    "    result= list(result)\n",
    "    data.append(result)\n",
    "columns=[\"order_id\",\"customer_name\",\"product_name\",\"date_ordered\",\"quantity\",\"unit_price\",\"phonme_num\"]\n",
    "df=pd.DataFrame(data,columns=columns)\n",
    "display(df)\n"
   ]
  },
  {
   "cell_type": "code",
   "execution_count": null,
   "id": "999ec9fe",
   "metadata": {},
   "outputs": [],
   "source": []
  }
 ],
 "metadata": {
  "kernelspec": {
   "display_name": "Python 3 (ipykernel)",
   "language": "python",
   "name": "python3"
  },
  "language_info": {
   "codemirror_mode": {
    "name": "ipython",
    "version": 3
   },
   "file_extension": ".py",
   "mimetype": "text/x-python",
   "name": "python",
   "nbconvert_exporter": "python",
   "pygments_lexer": "ipython3",
   "version": "3.11.7"
  }
 },
 "nbformat": 4,
 "nbformat_minor": 5
}
