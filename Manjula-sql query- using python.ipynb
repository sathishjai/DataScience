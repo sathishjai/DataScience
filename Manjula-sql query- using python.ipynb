{
 "cells": [
  {
   "cell_type": "code",
   "execution_count": 4,
   "id": "4cf7477e",
   "metadata": {},
   "outputs": [],
   "source": [
    "import mysql.connector\n",
    "from pymysql import connect\n",
    "from mysql.connector import Error \n",
    "import pandas as pd "
   ]
  },
  {
   "cell_type": "code",
   "execution_count": 20,
   "id": "0d152f8a",
   "metadata": {},
   "outputs": [
    {
     "name": "stdout",
     "output_type": "stream",
     "text": [
      "('abcltd',)\n",
      "('amitdb',)\n",
      "('information_schema',)\n",
      "('labours',)\n",
      "('mmltd',)\n",
      "('mysql',)\n",
      "('performance_schema',)\n",
      "('sys',)\n"
     ]
    }
   ],
   "source": [
    "data1=connect(host='localhost',user='root',passwd='Manju_004')\n",
    "curs =data1.cursor()\n",
    "query='show databases'\n",
    "cur.execute(query)\n",
    "datas1=cur.fetchall()\n",
    "for data in datas1:\n",
    "    print(data)"
   ]
  },
  {
   "cell_type": "code",
   "execution_count": 22,
   "id": "9e5d61ce",
   "metadata": {},
   "outputs": [
    {
     "name": "stdout",
     "output_type": "stream",
     "text": [
      "('employee_info',)\n",
      "('mmltd_data',)\n"
     ]
    }
   ],
   "source": [
    "data2=connect(host='localhost',user='root',passwd='Manju_004',database='mmltd')\n",
    "curs=data2.cursor()\n",
    "query='show tables'\n",
    "curs.execute(query)\n",
    "datas2=curs.fetchall()\n",
    "for x in datas2:\n",
    "    print(x)"
   ]
  },
  {
   "cell_type": "code",
   "execution_count": 25,
   "id": "20ba66ce",
   "metadata": {},
   "outputs": [
    {
     "data": {
      "text/plain": [
       "3"
      ]
     },
     "execution_count": 25,
     "metadata": {},
     "output_type": "execute_result"
    }
   ],
   "source": [
    "query='select * from mmltd_data'\n",
    "curs.execute(query)"
   ]
  },
  {
   "cell_type": "code",
   "execution_count": 26,
   "id": "d3a76fed",
   "metadata": {},
   "outputs": [
    {
     "name": "stderr",
     "output_type": "stream",
     "text": [
      "C:\\Users\\Manjula\\AppData\\Local\\Temp\\ipykernel_9064\\124185261.py:2: UserWarning: pandas only supports SQLAlchemy connectable (engine/connection) or database string URI or sqlite3 DBAPI2 connection. Other DBAPI2 objects are not tested. Please consider using SQLAlchemy.\n",
      "  mmltd_data=pd.read_sql(query,data2)\n"
     ]
    }
   ],
   "source": [
    "import pandas as pd \n",
    "mmltd_data=pd.read_sql(query,data2)"
   ]
  },
  {
   "cell_type": "code",
   "execution_count": 27,
   "id": "f90778ea",
   "metadata": {},
   "outputs": [
    {
     "data": {
      "text/html": [
       "<div>\n",
       "<style scoped>\n",
       "    .dataframe tbody tr th:only-of-type {\n",
       "        vertical-align: middle;\n",
       "    }\n",
       "\n",
       "    .dataframe tbody tr th {\n",
       "        vertical-align: top;\n",
       "    }\n",
       "\n",
       "    .dataframe thead th {\n",
       "        text-align: right;\n",
       "    }\n",
       "</style>\n",
       "<table border=\"1\" class=\"dataframe\">\n",
       "  <thead>\n",
       "    <tr style=\"text-align: right;\">\n",
       "      <th></th>\n",
       "      <th>Id_no</th>\n",
       "      <th>Name</th>\n",
       "      <th>Mobile_no</th>\n",
       "      <th>Email_Id</th>\n",
       "      <th>Age</th>\n",
       "      <th>Designation</th>\n",
       "      <th>salary</th>\n",
       "      <th>pf_amt</th>\n",
       "    </tr>\n",
       "  </thead>\n",
       "  <tbody>\n",
       "    <tr>\n",
       "      <th>0</th>\n",
       "      <td>101</td>\n",
       "      <td>Leena</td>\n",
       "      <td>9983456234</td>\n",
       "      <td>meenamanogar@gmail.com</td>\n",
       "      <td>34</td>\n",
       "      <td>dataanalytics</td>\n",
       "      <td>150000</td>\n",
       "      <td>2000</td>\n",
       "    </tr>\n",
       "    <tr>\n",
       "      <th>1</th>\n",
       "      <td>102</td>\n",
       "      <td>Meena</td>\n",
       "      <td>9978675645</td>\n",
       "      <td>Leenasundar@gmail.com</td>\n",
       "      <td>24</td>\n",
       "      <td>dataengineer</td>\n",
       "      <td>170000</td>\n",
       "      <td>3000</td>\n",
       "    </tr>\n",
       "    <tr>\n",
       "      <th>2</th>\n",
       "      <td>103</td>\n",
       "      <td>Teena</td>\n",
       "      <td>7401346657</td>\n",
       "      <td>teenalusee@gmail.com</td>\n",
       "      <td>36</td>\n",
       "      <td>datascientist</td>\n",
       "      <td>180000</td>\n",
       "      <td>None</td>\n",
       "    </tr>\n",
       "  </tbody>\n",
       "</table>\n",
       "</div>"
      ],
      "text/plain": [
       "   Id_no   Name   Mobile_no                Email_Id  Age    Designation  \\\n",
       "0    101  Leena  9983456234  meenamanogar@gmail.com   34  dataanalytics   \n",
       "1    102  Meena  9978675645   Leenasundar@gmail.com   24   dataengineer   \n",
       "2    103  Teena  7401346657    teenalusee@gmail.com   36  datascientist   \n",
       "\n",
       "   salary pf_amt  \n",
       "0  150000   2000  \n",
       "1  170000   3000  \n",
       "2  180000   None  "
      ]
     },
     "execution_count": 27,
     "metadata": {},
     "output_type": "execute_result"
    }
   ],
   "source": [
    "mmltd_data"
   ]
  },
  {
   "cell_type": "code",
   "execution_count": null,
   "id": "dea9365c",
   "metadata": {},
   "outputs": [],
   "source": []
  }
 ],
 "metadata": {
  "kernelspec": {
   "display_name": "Python 3 (ipykernel)",
   "language": "python",
   "name": "python3"
  },
  "language_info": {
   "codemirror_mode": {
    "name": "ipython",
    "version": 3
   },
   "file_extension": ".py",
   "mimetype": "text/x-python",
   "name": "python",
   "nbconvert_exporter": "python",
   "pygments_lexer": "ipython3",
   "version": "3.11.7"
  }
 },
 "nbformat": 4,
 "nbformat_minor": 5
}
