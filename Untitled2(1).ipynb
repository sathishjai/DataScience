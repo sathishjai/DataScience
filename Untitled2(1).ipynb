{
 "cells": [
  {
   "cell_type": "code",
   "execution_count": 90,
   "id": "3cc96db6-4c20-47a2-b065-a93aaf7b0131",
   "metadata": {},
   "outputs": [],
   "source": [
    "import pandas as pd"
   ]
  },
  {
   "cell_type": "code",
   "execution_count": 91,
   "id": "8e52cbfd-73fa-4a17-8171-df83b6f86e8b",
   "metadata": {},
   "outputs": [],
   "source": [
    "df=pd.read_csv(\"/home/sathish/Downloads/used_cars_data.csv\")"
   ]
  },
  {
   "cell_type": "code",
   "execution_count": 92,
   "id": "13c20fc5-9c02-407f-9c11-af2f2bbcd62c",
   "metadata": {},
   "outputs": [
    {
     "data": {
      "text/plain": [
       "(7253, 14)"
      ]
     },
     "execution_count": 92,
     "metadata": {},
     "output_type": "execute_result"
    }
   ],
   "source": [
    "df.shape"
   ]
  },
  {
   "cell_type": "code",
   "execution_count": 93,
   "id": "38a29703-33b2-49d2-945d-c4e3998f32c3",
   "metadata": {},
   "outputs": [
    {
     "data": {
      "text/html": [
       "<div>\n",
       "<style scoped>\n",
       "    .dataframe tbody tr th:only-of-type {\n",
       "        vertical-align: middle;\n",
       "    }\n",
       "\n",
       "    .dataframe tbody tr th {\n",
       "        vertical-align: top;\n",
       "    }\n",
       "\n",
       "    .dataframe thead th {\n",
       "        text-align: right;\n",
       "    }\n",
       "</style>\n",
       "<table border=\"1\" class=\"dataframe\">\n",
       "  <thead>\n",
       "    <tr style=\"text-align: right;\">\n",
       "      <th></th>\n",
       "      <th>S.No.</th>\n",
       "      <th>Name</th>\n",
       "      <th>Location</th>\n",
       "      <th>Year</th>\n",
       "      <th>Kilometers_Driven</th>\n",
       "      <th>Fuel_Type</th>\n",
       "      <th>Transmission</th>\n",
       "      <th>Owner_Type</th>\n",
       "      <th>Mileage</th>\n",
       "      <th>Engine</th>\n",
       "      <th>Power</th>\n",
       "      <th>Seats</th>\n",
       "      <th>New_Price</th>\n",
       "      <th>Price</th>\n",
       "    </tr>\n",
       "  </thead>\n",
       "  <tbody>\n",
       "    <tr>\n",
       "      <th>0</th>\n",
       "      <td>0</td>\n",
       "      <td>Maruti Wagon R LXI CNG</td>\n",
       "      <td>Mumbai</td>\n",
       "      <td>2010</td>\n",
       "      <td>72000</td>\n",
       "      <td>CNG</td>\n",
       "      <td>Manual</td>\n",
       "      <td>First</td>\n",
       "      <td>26.6 km/kg</td>\n",
       "      <td>998 CC</td>\n",
       "      <td>58.16 bhp</td>\n",
       "      <td>5.0</td>\n",
       "      <td>NaN</td>\n",
       "      <td>1.75</td>\n",
       "    </tr>\n",
       "    <tr>\n",
       "      <th>1</th>\n",
       "      <td>1</td>\n",
       "      <td>Hyundai Creta 1.6 CRDi SX Option</td>\n",
       "      <td>Pune</td>\n",
       "      <td>2015</td>\n",
       "      <td>41000</td>\n",
       "      <td>Diesel</td>\n",
       "      <td>Manual</td>\n",
       "      <td>First</td>\n",
       "      <td>19.67 kmpl</td>\n",
       "      <td>1582 CC</td>\n",
       "      <td>126.2 bhp</td>\n",
       "      <td>5.0</td>\n",
       "      <td>NaN</td>\n",
       "      <td>12.50</td>\n",
       "    </tr>\n",
       "    <tr>\n",
       "      <th>2</th>\n",
       "      <td>2</td>\n",
       "      <td>Honda Jazz V</td>\n",
       "      <td>Chennai</td>\n",
       "      <td>2011</td>\n",
       "      <td>46000</td>\n",
       "      <td>Petrol</td>\n",
       "      <td>Manual</td>\n",
       "      <td>First</td>\n",
       "      <td>18.2 kmpl</td>\n",
       "      <td>1199 CC</td>\n",
       "      <td>88.7 bhp</td>\n",
       "      <td>5.0</td>\n",
       "      <td>8.61 Lakh</td>\n",
       "      <td>4.50</td>\n",
       "    </tr>\n",
       "    <tr>\n",
       "      <th>3</th>\n",
       "      <td>3</td>\n",
       "      <td>Maruti Ertiga VDI</td>\n",
       "      <td>Chennai</td>\n",
       "      <td>2012</td>\n",
       "      <td>87000</td>\n",
       "      <td>Diesel</td>\n",
       "      <td>Manual</td>\n",
       "      <td>First</td>\n",
       "      <td>20.77 kmpl</td>\n",
       "      <td>1248 CC</td>\n",
       "      <td>88.76 bhp</td>\n",
       "      <td>7.0</td>\n",
       "      <td>NaN</td>\n",
       "      <td>6.00</td>\n",
       "    </tr>\n",
       "    <tr>\n",
       "      <th>4</th>\n",
       "      <td>4</td>\n",
       "      <td>Audi A4 New 2.0 TDI Multitronic</td>\n",
       "      <td>Coimbatore</td>\n",
       "      <td>2013</td>\n",
       "      <td>40670</td>\n",
       "      <td>Diesel</td>\n",
       "      <td>Automatic</td>\n",
       "      <td>Second</td>\n",
       "      <td>15.2 kmpl</td>\n",
       "      <td>1968 CC</td>\n",
       "      <td>140.8 bhp</td>\n",
       "      <td>5.0</td>\n",
       "      <td>NaN</td>\n",
       "      <td>17.74</td>\n",
       "    </tr>\n",
       "    <tr>\n",
       "      <th>...</th>\n",
       "      <td>...</td>\n",
       "      <td>...</td>\n",
       "      <td>...</td>\n",
       "      <td>...</td>\n",
       "      <td>...</td>\n",
       "      <td>...</td>\n",
       "      <td>...</td>\n",
       "      <td>...</td>\n",
       "      <td>...</td>\n",
       "      <td>...</td>\n",
       "      <td>...</td>\n",
       "      <td>...</td>\n",
       "      <td>...</td>\n",
       "      <td>...</td>\n",
       "    </tr>\n",
       "    <tr>\n",
       "      <th>7248</th>\n",
       "      <td>7248</td>\n",
       "      <td>Volkswagen Vento Diesel Trendline</td>\n",
       "      <td>Hyderabad</td>\n",
       "      <td>2011</td>\n",
       "      <td>89411</td>\n",
       "      <td>Diesel</td>\n",
       "      <td>Manual</td>\n",
       "      <td>First</td>\n",
       "      <td>20.54 kmpl</td>\n",
       "      <td>1598 CC</td>\n",
       "      <td>103.6 bhp</td>\n",
       "      <td>5.0</td>\n",
       "      <td>NaN</td>\n",
       "      <td>NaN</td>\n",
       "    </tr>\n",
       "    <tr>\n",
       "      <th>7249</th>\n",
       "      <td>7249</td>\n",
       "      <td>Volkswagen Polo GT TSI</td>\n",
       "      <td>Mumbai</td>\n",
       "      <td>2015</td>\n",
       "      <td>59000</td>\n",
       "      <td>Petrol</td>\n",
       "      <td>Automatic</td>\n",
       "      <td>First</td>\n",
       "      <td>17.21 kmpl</td>\n",
       "      <td>1197 CC</td>\n",
       "      <td>103.6 bhp</td>\n",
       "      <td>5.0</td>\n",
       "      <td>NaN</td>\n",
       "      <td>NaN</td>\n",
       "    </tr>\n",
       "    <tr>\n",
       "      <th>7250</th>\n",
       "      <td>7250</td>\n",
       "      <td>Nissan Micra Diesel XV</td>\n",
       "      <td>Kolkata</td>\n",
       "      <td>2012</td>\n",
       "      <td>28000</td>\n",
       "      <td>Diesel</td>\n",
       "      <td>Manual</td>\n",
       "      <td>First</td>\n",
       "      <td>23.08 kmpl</td>\n",
       "      <td>1461 CC</td>\n",
       "      <td>63.1 bhp</td>\n",
       "      <td>5.0</td>\n",
       "      <td>NaN</td>\n",
       "      <td>NaN</td>\n",
       "    </tr>\n",
       "    <tr>\n",
       "      <th>7251</th>\n",
       "      <td>7251</td>\n",
       "      <td>Volkswagen Polo GT TSI</td>\n",
       "      <td>Pune</td>\n",
       "      <td>2013</td>\n",
       "      <td>52262</td>\n",
       "      <td>Petrol</td>\n",
       "      <td>Automatic</td>\n",
       "      <td>Third</td>\n",
       "      <td>17.2 kmpl</td>\n",
       "      <td>1197 CC</td>\n",
       "      <td>103.6 bhp</td>\n",
       "      <td>5.0</td>\n",
       "      <td>NaN</td>\n",
       "      <td>NaN</td>\n",
       "    </tr>\n",
       "    <tr>\n",
       "      <th>7252</th>\n",
       "      <td>7252</td>\n",
       "      <td>Mercedes-Benz E-Class 2009-2013 E 220 CDI Avan...</td>\n",
       "      <td>Kochi</td>\n",
       "      <td>2014</td>\n",
       "      <td>72443</td>\n",
       "      <td>Diesel</td>\n",
       "      <td>Automatic</td>\n",
       "      <td>First</td>\n",
       "      <td>10.0 kmpl</td>\n",
       "      <td>2148 CC</td>\n",
       "      <td>170 bhp</td>\n",
       "      <td>5.0</td>\n",
       "      <td>NaN</td>\n",
       "      <td>NaN</td>\n",
       "    </tr>\n",
       "  </tbody>\n",
       "</table>\n",
       "<p>7253 rows × 14 columns</p>\n",
       "</div>"
      ],
      "text/plain": [
       "      S.No.  ...  Price\n",
       "0         0  ...   1.75\n",
       "1         1  ...  12.50\n",
       "2         2  ...   4.50\n",
       "3         3  ...   6.00\n",
       "4         4  ...  17.74\n",
       "...     ...  ...    ...\n",
       "7248   7248  ...    NaN\n",
       "7249   7249  ...    NaN\n",
       "7250   7250  ...    NaN\n",
       "7251   7251  ...    NaN\n",
       "7252   7252  ...    NaN\n",
       "\n",
       "[7253 rows x 14 columns]"
      ]
     },
     "execution_count": 93,
     "metadata": {},
     "output_type": "execute_result"
    }
   ],
   "source": [
    "df"
   ]
  },
  {
   "cell_type": "code",
   "execution_count": 94,
   "id": "509248dd-f7c2-4e29-ac2a-6bcf7a9edec4",
   "metadata": {},
   "outputs": [
    {
     "data": {
      "text/plain": [
       "S.No.                   0\n",
       "Name                    0\n",
       "Location                0\n",
       "Year                    0\n",
       "Kilometers_Driven       0\n",
       "Fuel_Type               0\n",
       "Transmission            0\n",
       "Owner_Type              0\n",
       "Mileage                 2\n",
       "Engine                 46\n",
       "Power                  46\n",
       "Seats                  53\n",
       "New_Price            6247\n",
       "Price                1234\n",
       "dtype: int64"
      ]
     },
     "execution_count": 94,
     "metadata": {},
     "output_type": "execute_result"
    }
   ],
   "source": [
    "df.isnull().sum()"
   ]
  },
  {
   "cell_type": "code",
   "execution_count": 95,
   "id": "6cf8dd62-0e11-4b71-ae8a-6f020d47a291",
   "metadata": {},
   "outputs": [
    {
     "data": {
      "text/plain": [
       "array(['998 CC', '1582 CC', '1199 CC', '1248 CC', '1968 CC', '814 CC',\n",
       "       '1461 CC', '2755 CC', '1598 CC', '1462 CC', '1497 CC', '2179 CC',\n",
       "       '2477 CC', '1498 CC', '2143 CC', '1995 CC', '1984 CC', '1197 CC',\n",
       "       '2494 CC', '1798 CC', '2696 CC', '2698 CC', '1061 CC', '1198 CC',\n",
       "       '2987 CC', '796 CC', '624 CC', '1999 CC', '1991 CC', '2694 CC',\n",
       "       '1120 CC', '2498 CC', '799 CC', '2393 CC', '1399 CC', '1796 CC',\n",
       "       '2148 CC', '1396 CC', '1950 CC', '4806 CC', '1998 CC', '1086 CC',\n",
       "       '1193 CC', '2982 CC', '1493 CC', '2967 CC', '2993 CC', '1196 CC',\n",
       "       '1799 CC', '2497 CC', '2354 CC', '1373 CC', '2996 CC', '1591 CC',\n",
       "       '2894 CC', '5461 CC', '1595 CC', '936 CC', '1997 CC', nan,\n",
       "       '1896 CC', '1390 CC', '1364 CC', '2199 CC', '993 CC', '999 CC',\n",
       "       '1405 CC', '2956 CC', '1794 CC', '995 CC', '2496 CC', '1599 CC',\n",
       "       '2400 CC', '1495 CC', '2523 CC', '793 CC', '4134 CC', '1596 CC',\n",
       "       '1395 CC', '2953 CC', '1586 CC', '2362 CC', '1496 CC', '1368 CC',\n",
       "       '1298 CC', '1956 CC', '1299 CC', '3498 CC', '2835 CC', '1150 CC',\n",
       "       '3198 CC', '1343 CC', '1499 CC', '1186 CC', '1590 CC', '2609 CC',\n",
       "       '2499 CC', '2446 CC', '1978 CC', '2360 CC', '3436 CC', '2198 CC',\n",
       "       '4367 CC', '2706 CC', '1422 CC', '2979 CC', '1969 CC', '1489 CC',\n",
       "       '2489 CC', '1242 CC', '1388 CC', '1172 CC', '2495 CC', '1194 CC',\n",
       "       '3200 CC', '1781 CC', '1341 CC', '2773 CC', '3597 CC', '1985 CC',\n",
       "       '2147 CC', '1047 CC', '2999 CC', '2995 CC', '2997 CC', '1948 CC',\n",
       "       '2359 CC', '4395 CC', '2349 CC', '2720 CC', '1468 CC', '3197 CC',\n",
       "       '2487 CC', '1597 CC', '2771 CC', '72 CC', '4951 CC', '970 CC',\n",
       "       '2925 CC', '2200 CC', '5000 CC', '2149 CC', '5998 CC', '2092 CC',\n",
       "       '5204 CC', '2112 CC', '1797 CC', '2000 CC', '1795 CC', '3696 CC',\n",
       "       '1389 CC'], dtype=object)"
      ]
     },
     "execution_count": 95,
     "metadata": {},
     "output_type": "execute_result"
    }
   ],
   "source": [
    "df['Engine'].unique()"
   ]
  },
  {
   "cell_type": "code",
   "execution_count": 96,
   "id": "a8d85e8f-7db6-4bcd-8e37-b5bb9d7b1a86",
   "metadata": {},
   "outputs": [],
   "source": [
    "df_mode=df.Engine.mode()[0]"
   ]
  },
  {
   "cell_type": "code",
   "execution_count": 97,
   "id": "26c61b0d-3a77-4f52-817d-d76eefcda177",
   "metadata": {},
   "outputs": [
    {
     "data": {
      "text/plain": [
       "'1197 CC'"
      ]
     },
     "execution_count": 97,
     "metadata": {},
     "output_type": "execute_result"
    }
   ],
   "source": [
    "df_mode"
   ]
  },
  {
   "cell_type": "code",
   "execution_count": 98,
   "id": "6fd9dc56-9ea5-462d-b9c6-322677ddcb99",
   "metadata": {},
   "outputs": [
    {
     "name": "stderr",
     "output_type": "stream",
     "text": [
      "/tmp/ipykernel_15084/1167896396.py:1: FutureWarning: A value is trying to be set on a copy of a DataFrame or Series through chained assignment using an inplace method.\n",
      "The behavior will change in pandas 3.0. This inplace method will never work because the intermediate object on which we are setting values always behaves as a copy.\n",
      "\n",
      "For example, when doing 'df[col].method(value, inplace=True)', try using 'df.method({col: value}, inplace=True)' or df[col] = df[col].method(value) instead, to perform the operation inplace on the original object.\n",
      "\n",
      "\n",
      "  df.Engine.fillna(df_mode,inplace=True)\n"
     ]
    }
   ],
   "source": [
    "df.Engine.fillna(df_mode,inplace=True)"
   ]
  },
  {
   "cell_type": "code",
   "execution_count": 99,
   "id": "c90f3183-55ab-4f70-92ec-f6e0ea0af422",
   "metadata": {},
   "outputs": [
    {
     "data": {
      "text/plain": [
       "S.No.                   0\n",
       "Name                    0\n",
       "Location                0\n",
       "Year                    0\n",
       "Kilometers_Driven       0\n",
       "Fuel_Type               0\n",
       "Transmission            0\n",
       "Owner_Type              0\n",
       "Mileage                 2\n",
       "Engine                  0\n",
       "Power                  46\n",
       "Seats                  53\n",
       "New_Price            6247\n",
       "Price                1234\n",
       "dtype: int64"
      ]
     },
     "execution_count": 99,
     "metadata": {},
     "output_type": "execute_result"
    }
   ],
   "source": [
    "df.isnull().sum()"
   ]
  },
  {
   "cell_type": "code",
   "execution_count": 100,
   "id": "fd74ebc0-9013-4fdb-ae75-82c841b4f3b3",
   "metadata": {},
   "outputs": [
    {
     "data": {
      "text/plain": [
       "array(['58.16 bhp', '126.2 bhp', '88.7 bhp', '88.76 bhp', '140.8 bhp',\n",
       "       '55.2 bhp', '63.1 bhp', '171.5 bhp', '103.6 bhp', '74 bhp',\n",
       "       '103.25 bhp', '116.3 bhp', '187.7 bhp', '115 bhp', '175.56 bhp',\n",
       "       '98.6 bhp', '83.8 bhp', '167.62 bhp', '190 bhp', '88.5 bhp',\n",
       "       '177.01 bhp', '80 bhp', '67.1 bhp', '102 bhp', '108.45 bhp',\n",
       "       '138.1 bhp', '184 bhp', '179.5 bhp', '103.5 bhp', '64 bhp',\n",
       "       '82 bhp', '254.8 bhp', '73.9 bhp', '46.3 bhp', '37.5 bhp',\n",
       "       '77 bhp', '82.9 bhp', '149.92 bhp', '138.03 bhp', '112.2 bhp',\n",
       "       '163.7 bhp', '71 bhp', '105 bhp', '174.33 bhp', '75 bhp',\n",
       "       '103.2 bhp', '53.3 bhp', '78.9 bhp', '147.6 bhp', '147.8 bhp',\n",
       "       '68 bhp', '186 bhp', '170 bhp', '69 bhp', '140 bhp', '78 bhp',\n",
       "       '194 bhp', '500 bhp', '108.5 bhp', '86.8 bhp', '187.74 bhp',\n",
       "       'null bhp', '132 bhp', '86.7 bhp', '73.94 bhp', '117.3 bhp',\n",
       "       '218 bhp', '168.5 bhp', '89.84 bhp', '110 bhp', '90 bhp',\n",
       "       '82.85 bhp', '67 bhp', '241.4 bhp', '35 bhp', '270.9 bhp',\n",
       "       '126.32 bhp', '73 bhp', '130 bhp', '100.6 bhp', '150 bhp',\n",
       "       '75.94 bhp', '215 bhp', '107.3 bhp', '37.48 bhp', '120 bhp',\n",
       "       '178 bhp', '152 bhp', '91.1 bhp', '85.80 bhp', '362.07 bhp',\n",
       "       '121.3 bhp', '143 bhp', '81.80 bhp', '171 bhp', '76.8 bhp',\n",
       "       '103.52 bhp', '444 bhp', '362.9 bhp', '67.06 bhp', '120.7 bhp',\n",
       "       '258 bhp', '81.86 bhp', '112 bhp', '88.73 bhp', '57.6 bhp',\n",
       "       '157.75 bhp', '102.5 bhp', '201.1 bhp', '83.1 bhp', '68.05 bhp',\n",
       "       '88.50 bhp', nan, '106 bhp', '100 bhp', '81.83 bhp', '85 bhp',\n",
       "       '64.1 bhp', '177.5 bhp', '246.7 bhp', '177.46 bhp', '65 bhp',\n",
       "       '67.04 bhp', '189.08 bhp', '99 bhp', '53.5 bhp', '194.3 bhp',\n",
       "       '70 bhp', '183 bhp', '254.79 bhp', '66.1 bhp', '76 bhp', '60 bhp',\n",
       "       '123.24 bhp', '47.3 bhp', '118 bhp', '88.8 bhp', '177 bhp',\n",
       "       '136 bhp', '201.15 bhp', '93.7 bhp', '177.6 bhp', '313 bhp',\n",
       "       '245 bhp', '125 bhp', '141 bhp', '227 bhp', '62 bhp', '141.1 bhp',\n",
       "       '83.14 bhp', '192 bhp', '67.05 bhp', '47 bhp', '235 bhp', '37 bhp',\n",
       "       '87.2 bhp', '203 bhp', '204 bhp', '246.74 bhp', '122 bhp',\n",
       "       '282 bhp', '181 bhp', '224 bhp', '94 bhp', '367 bhp', '98.79 bhp',\n",
       "       '62.1 bhp', '174.3 bhp', '114 bhp', '335.2 bhp', '169 bhp',\n",
       "       '191.34 bhp', '108.49 bhp', '138.02 bhp', '156 bhp', '187.4 bhp',\n",
       "       '66 bhp', '103.3 bhp', '164.7 bhp', '79.4 bhp', '198.5 bhp',\n",
       "       '154 bhp', '73.8 bhp', '181.43 bhp', '85.8 bhp', '207.8 bhp',\n",
       "       '108.4 bhp', '88 bhp', '63 bhp', '82.5 bhp', '364.9 bhp',\n",
       "       '107.2 bhp', '113.98 bhp', '126.3 bhp', '185 bhp', '237.4 bhp',\n",
       "       '99.6 bhp', '66.7 bhp', '160 bhp', '306 bhp', '98.59 bhp',\n",
       "       '92.7 bhp', '147.51 bhp', '197.2 bhp', '167.6 bhp', '165 bhp',\n",
       "       '110.4 bhp', '73.97 bhp', '147.9 bhp', '116.6 bhp', '148 bhp',\n",
       "       '34.2 bhp', '155 bhp', '197 bhp', '108.62 bhp', '118.3 bhp',\n",
       "       '38.4 bhp', '241.38 bhp', '153.86 bhp', '163.5 bhp', '226.6 bhp',\n",
       "       '84.8 bhp', '53.64 bhp', '158.2 bhp', '69.01 bhp', '181.03 bhp',\n",
       "       '58.2 bhp', '104.68 bhp', '126.24 bhp', '73.75 bhp', '158 bhp',\n",
       "       '130.2 bhp', '57.5 bhp', '97.7 bhp', '121.4 bhp', '98.96 bhp',\n",
       "       '174.5 bhp', '308 bhp', '121.36 bhp', '138 bhp', '265 bhp',\n",
       "       '84 bhp', '321 bhp', '91.72 bhp', '65.3 bhp', '88.2 bhp', '93 bhp',\n",
       "       '35.5 bhp', '86.79 bhp', '157.7 bhp', '40.3 bhp', '91.7 bhp',\n",
       "       '180 bhp', '114.4 bhp', '158.8 bhp', '157.8 bhp', '123.7 bhp',\n",
       "       '56.3 bhp', '189 bhp', '104 bhp', '210 bhp', '270.88 bhp',\n",
       "       '142 bhp', '255 bhp', '236 bhp', '167.7 bhp', '148.31 bhp',\n",
       "       '80.46 bhp', '138.08 bhp', '250 bhp', '74.9 bhp', '91.2 bhp',\n",
       "       '102.57 bhp', '97.6 bhp', '102.53 bhp', '240 bhp', '254 bhp',\n",
       "       '112.4 bhp', '73.74 bhp', '108.495 bhp', '116.9 bhp', '101 bhp',\n",
       "       '320 bhp', '70.02 bhp', '261.49 bhp', '105.5 bhp', '550 bhp',\n",
       "       '168.7 bhp', '55.23 bhp', '94.68 bhp', '152.88 bhp', '163.2 bhp',\n",
       "       '203.2 bhp', '241 bhp', '95 bhp', '200 bhp', '271.23 bhp',\n",
       "       '63.12 bhp', '85.7 bhp', '308.43 bhp', '118.6 bhp', '199.3 bhp',\n",
       "       '83.83 bhp', '55 bhp', '83 bhp', '300 bhp', '201 bhp', '262.6 bhp',\n",
       "       '163 bhp', '58.33 bhp', '86.76 bhp', '76.9 bhp', '174.57 bhp',\n",
       "       '301.73 bhp', '68.1 bhp', '162 bhp', '394.3 bhp', '80.9 bhp',\n",
       "       '147.5 bhp', '272 bhp', '340 bhp', '120.33 bhp', '82.4 bhp',\n",
       "       '231.1 bhp', '335.3 bhp', '333 bhp', '198.25 bhp', '224.34 bhp',\n",
       "       '402 bhp', '261 bhp', '61 bhp', '144 bhp', '71.01 bhp',\n",
       "       '271.72 bhp', '134 bhp', '135.1 bhp', '92 bhp', '64.08 bhp',\n",
       "       '261.5 bhp', '123.37 bhp', '175.67 bhp', '53 bhp', '110.5 bhp',\n",
       "       '178.4 bhp', '193.1 bhp', '41 bhp', '395 bhp', '48.21 bhp',\n",
       "       '450 bhp', '421 bhp', '89.75 bhp', '387.3 bhp', '130.3 bhp',\n",
       "       '281.61 bhp', '52.8 bhp', '139.01 bhp', '208 bhp', '503 bhp',\n",
       "       '168 bhp', '98.82 bhp', '139.07 bhp', '83.11 bhp', '74.93 bhp',\n",
       "       '382 bhp', '74.96 bhp', '552 bhp', '127 bhp', '560 bhp',\n",
       "       '116.4 bhp', '161.6 bhp', '488.1 bhp', '103 bhp', '181.04 bhp',\n",
       "       '138.13 bhp', '78.8 bhp', '616 bhp', '170.30 bhp', '182.46 bhp',\n",
       "       '245.41 bhp', '161 bhp', '120.69 bhp', '252 bhp', '147.4 bhp',\n",
       "       '328.5 bhp', '98.63 bhp', '360 bhp', '241.6 bhp'], dtype=object)"
      ]
     },
     "execution_count": 100,
     "metadata": {},
     "output_type": "execute_result"
    }
   ],
   "source": [
    "df['Power'].unique()"
   ]
  },
  {
   "cell_type": "code",
   "execution_count": 101,
   "id": "6f04e315-ca20-4e3b-bdec-f746055d65b4",
   "metadata": {},
   "outputs": [],
   "source": [
    "df_mode1=df.Power.mode()[0]"
   ]
  },
  {
   "cell_type": "code",
   "execution_count": 102,
   "id": "7d6ba7d1-c6a7-49ba-8cde-b79ca4a5e835",
   "metadata": {},
   "outputs": [
    {
     "data": {
      "text/plain": [
       "'74 bhp'"
      ]
     },
     "execution_count": 102,
     "metadata": {},
     "output_type": "execute_result"
    }
   ],
   "source": [
    "df_mode1"
   ]
  },
  {
   "cell_type": "code",
   "execution_count": 103,
   "id": "aa85fed2-e3d4-4a2a-aa4d-4bb1855b5b9d",
   "metadata": {},
   "outputs": [
    {
     "name": "stderr",
     "output_type": "stream",
     "text": [
      "/tmp/ipykernel_15084/2586297487.py:1: FutureWarning: A value is trying to be set on a copy of a DataFrame or Series through chained assignment using an inplace method.\n",
      "The behavior will change in pandas 3.0. This inplace method will never work because the intermediate object on which we are setting values always behaves as a copy.\n",
      "\n",
      "For example, when doing 'df[col].method(value, inplace=True)', try using 'df.method({col: value}, inplace=True)' or df[col] = df[col].method(value) instead, to perform the operation inplace on the original object.\n",
      "\n",
      "\n",
      "  df.Power.fillna(df_mode1,inplace=True)\n"
     ]
    }
   ],
   "source": [
    "df.Power.fillna(df_mode1,inplace=True)"
   ]
  },
  {
   "cell_type": "code",
   "execution_count": 104,
   "id": "aeaa5134-2b5a-4554-8733-3b3006e33f27",
   "metadata": {},
   "outputs": [
    {
     "data": {
      "text/plain": [
       "S.No.                   0\n",
       "Name                    0\n",
       "Location                0\n",
       "Year                    0\n",
       "Kilometers_Driven       0\n",
       "Fuel_Type               0\n",
       "Transmission            0\n",
       "Owner_Type              0\n",
       "Mileage                 2\n",
       "Engine                  0\n",
       "Power                   0\n",
       "Seats                  53\n",
       "New_Price            6247\n",
       "Price                1234\n",
       "dtype: int64"
      ]
     },
     "execution_count": 104,
     "metadata": {},
     "output_type": "execute_result"
    }
   ],
   "source": [
    "df.isnull().sum()"
   ]
  },
  {
   "cell_type": "code",
   "execution_count": 105,
   "id": "d71d2f20-d5c7-4e7e-96f8-79be57f6eeec",
   "metadata": {},
   "outputs": [
    {
     "data": {
      "text/plain": [
       "array([ 5.,  7.,  8.,  4.,  6.,  2., nan, 10.,  9.,  0.])"
      ]
     },
     "execution_count": 105,
     "metadata": {},
     "output_type": "execute_result"
    }
   ],
   "source": [
    "df['Seats'].unique()"
   ]
  },
  {
   "cell_type": "code",
   "execution_count": 106,
   "id": "b368206a-96f8-4d3f-8b09-6dc62a5806da",
   "metadata": {},
   "outputs": [],
   "source": [
    "df_mode2=df.Seats.mode()[0]"
   ]
  },
  {
   "cell_type": "code",
   "execution_count": 107,
   "id": "8737aa79-7e8e-4dcd-b5c6-8940d0e01a3a",
   "metadata": {},
   "outputs": [
    {
     "data": {
      "text/plain": [
       "5.0"
      ]
     },
     "execution_count": 107,
     "metadata": {},
     "output_type": "execute_result"
    }
   ],
   "source": [
    "df_mode2"
   ]
  },
  {
   "cell_type": "code",
   "execution_count": 108,
   "id": "84208edf-8cfb-456c-a108-d9b31448df15",
   "metadata": {},
   "outputs": [],
   "source": [
    "df_mode2=df.Seats.mode()[0]"
   ]
  },
  {
   "cell_type": "code",
   "execution_count": 109,
   "id": "22c3cd04-7414-417a-8cec-5d74ba678584",
   "metadata": {},
   "outputs": [
    {
     "data": {
      "text/plain": [
       "5.0"
      ]
     },
     "execution_count": 109,
     "metadata": {},
     "output_type": "execute_result"
    }
   ],
   "source": [
    "df_mode2"
   ]
  },
  {
   "cell_type": "code",
   "execution_count": 110,
   "id": "2ed3364d-078b-4990-b1ca-0712bc28a6a1",
   "metadata": {},
   "outputs": [
    {
     "name": "stderr",
     "output_type": "stream",
     "text": [
      "/tmp/ipykernel_15084/3363983990.py:1: FutureWarning: A value is trying to be set on a copy of a DataFrame or Series through chained assignment using an inplace method.\n",
      "The behavior will change in pandas 3.0. This inplace method will never work because the intermediate object on which we are setting values always behaves as a copy.\n",
      "\n",
      "For example, when doing 'df[col].method(value, inplace=True)', try using 'df.method({col: value}, inplace=True)' or df[col] = df[col].method(value) instead, to perform the operation inplace on the original object.\n",
      "\n",
      "\n",
      "  df.Seats.fillna(df_mode2,inplace=True)\n"
     ]
    }
   ],
   "source": [
    "df.Seats.fillna(df_mode2,inplace=True)"
   ]
  },
  {
   "cell_type": "code",
   "execution_count": 111,
   "id": "a1ec4fcb-d22a-4f00-97e2-0dd3611869fa",
   "metadata": {},
   "outputs": [
    {
     "data": {
      "text/plain": [
       "S.No.                   0\n",
       "Name                    0\n",
       "Location                0\n",
       "Year                    0\n",
       "Kilometers_Driven       0\n",
       "Fuel_Type               0\n",
       "Transmission            0\n",
       "Owner_Type              0\n",
       "Mileage                 2\n",
       "Engine                  0\n",
       "Power                   0\n",
       "Seats                   0\n",
       "New_Price            6247\n",
       "Price                1234\n",
       "dtype: int64"
      ]
     },
     "execution_count": 111,
     "metadata": {},
     "output_type": "execute_result"
    }
   ],
   "source": [
    "df.isnull().sum()"
   ]
  },
  {
   "cell_type": "code",
   "execution_count": 112,
   "id": "18c5c9ec-5035-48e9-b90c-950701112efb",
   "metadata": {},
   "outputs": [
    {
     "data": {
      "text/plain": [
       "array([ 1.75, 12.5 ,  4.5 , ..., 17.56,  7.43,   nan])"
      ]
     },
     "execution_count": 112,
     "metadata": {},
     "output_type": "execute_result"
    }
   ],
   "source": [
    "df['Price'].unique()"
   ]
  },
  {
   "cell_type": "code",
   "execution_count": 113,
   "id": "936b50b5-4696-4d5b-b257-43860858136e",
   "metadata": {},
   "outputs": [],
   "source": [
    "df_mode3=df.Price.mode()[0]"
   ]
  },
  {
   "cell_type": "code",
   "execution_count": 114,
   "id": "4abfd503-72f8-49fd-b51d-c4c511ac5591",
   "metadata": {},
   "outputs": [
    {
     "data": {
      "text/plain": [
       "4.5"
      ]
     },
     "execution_count": 114,
     "metadata": {},
     "output_type": "execute_result"
    }
   ],
   "source": [
    "df_mode3"
   ]
  },
  {
   "cell_type": "code",
   "execution_count": 115,
   "id": "c1358b7d-45d9-4b4a-99a2-b00ac0d5d213",
   "metadata": {},
   "outputs": [
    {
     "name": "stderr",
     "output_type": "stream",
     "text": [
      "/tmp/ipykernel_15084/1507320550.py:1: FutureWarning: A value is trying to be set on a copy of a DataFrame or Series through chained assignment using an inplace method.\n",
      "The behavior will change in pandas 3.0. This inplace method will never work because the intermediate object on which we are setting values always behaves as a copy.\n",
      "\n",
      "For example, when doing 'df[col].method(value, inplace=True)', try using 'df.method({col: value}, inplace=True)' or df[col] = df[col].method(value) instead, to perform the operation inplace on the original object.\n",
      "\n",
      "\n",
      "  df.Price.fillna(df_mode3,inplace=True)\n"
     ]
    }
   ],
   "source": [
    "df.Price.fillna(df_mode3,inplace=True)"
   ]
  },
  {
   "cell_type": "code",
   "execution_count": 116,
   "id": "a2ef5833-c9dd-46d2-9659-410d63b1c241",
   "metadata": {},
   "outputs": [
    {
     "data": {
      "text/plain": [
       "S.No.                   0\n",
       "Name                    0\n",
       "Location                0\n",
       "Year                    0\n",
       "Kilometers_Driven       0\n",
       "Fuel_Type               0\n",
       "Transmission            0\n",
       "Owner_Type              0\n",
       "Mileage                 2\n",
       "Engine                  0\n",
       "Power                   0\n",
       "Seats                   0\n",
       "New_Price            6247\n",
       "Price                   0\n",
       "dtype: int64"
      ]
     },
     "execution_count": 116,
     "metadata": {},
     "output_type": "execute_result"
    }
   ],
   "source": [
    "df.isnull().sum()"
   ]
  },
  {
   "cell_type": "code",
   "execution_count": 117,
   "id": "c69b8c00-9b5b-4fe8-971b-5f21102cd953",
   "metadata": {},
   "outputs": [
    {
     "data": {
      "text/plain": [
       "array([nan, '8.61 Lakh', '21 Lakh', '10.65 Lakh', '32.01 Lakh',\n",
       "       '47.87 Lakh', '10.57 Lakh', '12.33 Lakh', '11.12 Lakh',\n",
       "       '23.64 Lakh', '18.64 Lakh', '19.34 Lakh', '49.14 Lakh',\n",
       "       '11.81 Lakh', '16.65 Lakh', '6.67 Lakh', '6.45 Lakh', '6.41 Lakh',\n",
       "       '27 Lakh', '5.13 Lakh', '54.43 Lakh', '9.51 Lakh', '9.96 Lakh',\n",
       "       '14.44 Lakh', '4.53 Lakh', '95.04 Lakh', '13.49 Lakh', '1.28 Cr',\n",
       "       '60.88 Lakh', '7.39 Lakh', '69.47 Lakh', '8.78 Lakh', '12.74 Lakh',\n",
       "       '10.52 Lakh', '11.98 Lakh', '8.54 Lakh', '33.58 Lakh', '9.12 Lakh',\n",
       "       '5.29 Lakh', '44.28 Lakh', '20.74 Lakh', '11.74 Lakh',\n",
       "       '25.52 Lakh', '14.07 Lakh', '95.13 Lakh', '8.34 Lakh', '8.85 Lakh',\n",
       "       '25.4 Lakh', '16.67 Lakh', '79.43 Lakh', '6.62 Lakh', '1.04 Cr',\n",
       "       '58.67 Lakh', '28.37 Lakh', '4.48 Lakh', '72.64 Lakh',\n",
       "       '36.15 Lakh', '44.59 Lakh', '12 Lakh', '14.65 Lakh', '53.72 Lakh',\n",
       "       '33.91 Lakh', '12.51 Lakh', '9.74 Lakh', '95.38 Lakh',\n",
       "       '60.59 Lakh', '11.28 Lakh', '11.48 Lakh', '11.26 Lakh',\n",
       "       '43.65 Lakh', '62.07 Lakh', '86.97 Lakh', '1 Cr', '4.74 Lakh',\n",
       "       '14.84 Lakh', '49.49 Lakh', '48.18 Lakh', '12.34 Lakh',\n",
       "       '15.38 Lakh', '19.21 Lakh', '22.95 Lakh', '11.15 Lakh',\n",
       "       '10.32 Lakh', '28.05 Lakh', '59.77 Lakh', '15.86 Lakh',\n",
       "       '19.43 Lakh', '42.12 Lakh', '16.95 Lakh', '15.45 Lakh',\n",
       "       '7.87 Lakh', '4.7 Lakh', '15.02 Lakh', '12.56 Lakh', '11.33 Lakh',\n",
       "       '26.45 Lakh', '10.34 Lakh', '7.46 Lakh', '11.85 Lakh',\n",
       "       '10.41 Lakh', '5.57 Lakh', '42.48 Lakh', '16.04 Lakh', '9.1 Lakh',\n",
       "       '7.65 Lakh', '13.74 Lakh', '5.72 Lakh', '21.33 Lakh', '78.76 Lakh',\n",
       "       '4.29 Lakh', '10.04 Lakh', '11.67 Lakh', '8.56 Lakh', '4.78 Lakh',\n",
       "       '6.14 Lakh', '7.3 Lakh', '4.37 Lakh', '4.98 Lakh', '15.29 Lakh',\n",
       "       '24.26 Lakh', '75.12 Lakh', '9.53 Lakh', '34.6 Lakh', '52.26 Lakh',\n",
       "       '70.43 Lakh', '4.8 Lakh', '12.12 Lakh', '19.37 Lakh', '12.14 Lakh',\n",
       "       '36.69 Lakh', '23.68 Lakh', '55.61 Lakh', '14.1 Lakh',\n",
       "       '13.26 Lakh', '11.27 Lakh', '11.2 Lakh', '9.46 Lakh', '12.79 Lakh',\n",
       "       '15.57 Lakh', '19.86 Lakh', '6.59 Lakh', '6.54 Lakh', '26.56 Lakh',\n",
       "       '15.05 Lakh', '11.01 Lakh', '11 Lakh', '7.55 Lakh', '7.82 Lakh',\n",
       "       '6.32 Lakh', '15.14 Lakh', '15.72 Lakh', '45.67 Lakh', '54.7 Lakh',\n",
       "       '22.87 Lakh', '6.74 Lakh', '33.09 Lakh', '23.25 Lakh',\n",
       "       '19.27 Lakh', '52.77 Lakh', '7.92 Lakh', '7.85 Lakh', '15.55 Lakh',\n",
       "       '32.45 Lakh', '4.83 Lakh', '7.13 Lakh', '71.82 Lakh', '50.97 Lakh',\n",
       "       '10.73 Lakh', '9.5 Lakh', '52.46 Lakh', '6.07 Lakh', '5.54 Lakh',\n",
       "       '4.33 Lakh', '8.63 Lakh', '6.68 Lakh', '7.98 Lakh', '24.82 Lakh',\n",
       "       '7.63 Lakh', '22.86 Lakh', '11.06 Lakh', '19.39 Lakh',\n",
       "       '21.77 Lakh', '18.35 Lakh', '9.19 Lakh', '8.09 Lakh', '1.39 Cr',\n",
       "       '11.52 Lakh', '13.23 Lakh', '10.06 Lakh', '15.34 Lakh',\n",
       "       '24.01 Lakh', '11.39 Lakh', '9.79 Lakh', '35 Lakh', '9.26 Lakh',\n",
       "       '8.68 Lakh', '66.39 Lakh', '36.45 Lakh', '91.38 Lakh',\n",
       "       '53.41 Lakh', '4.59 Lakh', '67.87 Lakh', '9.44 Lakh', '48.64 Lakh',\n",
       "       '11.69 Lakh', '11.11 Lakh', '6.33 Lakh', '8.1 Lakh', '6.4 Lakh',\n",
       "       '7.59 Lakh', '7 Lakh', '7.43 Lakh', '22.43 Lakh', '24.02 Lakh',\n",
       "       '21.69 Lakh', '34.63 Lakh', '43.31 Lakh', '4.71 Lakh', '1.02 Cr',\n",
       "       '6.71 Lakh', '34.45 Lakh', '8.58 Lakh', '12.67 Lakh', '11.89 Lakh',\n",
       "       '10.48 Lakh', '13.59 Lakh', '11.02 Lakh', '41.94 Lakh',\n",
       "       '8.94 Lakh', '21.38 Lakh', '12.88 Lakh', '8.27 Lakh', '7.37 Lakh',\n",
       "       '7.33 Lakh', '23.06 Lakh', '1.4 Cr', '5.58 Lakh', '22.46 Lakh',\n",
       "       '7.69 Lakh', '9.4 Lakh', '6.08 Lakh', '8.36 Lakh', '1.06 Cr',\n",
       "       '71.15 Lakh', '6.82 Lakh', '8.12 Lakh', '9.78 Lakh', '7.36 Lakh',\n",
       "       '38.11 Lakh', '11.75 Lakh', '8.44 Lakh', '16.06 Lakh', '6.63 Lakh',\n",
       "       '1.27 Cr', '39.6 Lakh', '10.91 Lakh', '25.75 Lakh', '5.61 Lakh',\n",
       "       '8.05 Lakh', '8.82 Lakh', '17.38 Lakh', '5.69 Lakh', '37.51 Lakh',\n",
       "       '5.88 Lakh', '63.71 Lakh', '11.47 Lakh', '37.46 Lakh', '7.88 Lakh',\n",
       "       '11.37 Lakh', '11.3 Lakh', '92.5 Lakh', '15.06 Lakh', '39.57 Lakh',\n",
       "       '13.7 Lakh', '11.16 Lakh', '9.47 Lakh', '10.17 Lakh', '8.17 Lakh',\n",
       "       '9.58 Lakh', '9.14 Lakh', '64.14 Lakh', '16.36 Lakh', '37.38 Lakh',\n",
       "       '22.74 Lakh', '33.36 Lakh', '70.55 Lakh', '1.13 Cr', '45.36 Lakh',\n",
       "       '10.13 Lakh', '14.22 Lakh', '11.77 Lakh', '4.05 Lakh',\n",
       "       '26.95 Lakh', '4.82 Lakh', '7.17 Lakh', '13.58 Lakh', '9.09 Lakh',\n",
       "       '4.09 Lakh', '6.83 Lakh', '5.04 Lakh', '43.81 Lakh', '5.12 Lakh',\n",
       "       '5.71 Lakh', '5.87 Lakh', '8.16 Lakh', '9.72 Lakh', '10.3 Lakh',\n",
       "       '4.69 Lakh', '5.42 Lakh', '91.23 Lakh', '7.14 Lakh', '69.59 Lakh',\n",
       "       '4.61 Lakh', '5.3 Lakh', '7.97 Lakh', '59.38 Lakh', '67.1 Lakh',\n",
       "       '12.22 Lakh', '33.68 Lakh', '6.96 Lakh', '7.96 Lakh', '20.8 Lakh',\n",
       "       '6.78 Lakh', '19.91 Lakh', '8.93 Lakh', '11.66 Lakh', '7.35 Lakh',\n",
       "       '6.99 Lakh', '23.89 Lakh', '7.27 Lakh', '8.84 Lakh', '22.37 Lakh',\n",
       "       '12.02 Lakh', '3.95 Lakh', '48.79 Lakh', '4.66 Lakh', '11.29 Lakh',\n",
       "       '5.35 Lakh', '1.36 Cr', '6.23 Lakh', '47.16 Lakh', '41.98 Lakh',\n",
       "       '35.29 Lakh', '7.91 Lakh', '5.36 Lakh', '5.51 Lakh', '20.97 Lakh',\n",
       "       '34.89 Lakh', '16.4 Lakh', '1.66 Cr', '14.67 Lakh', '12.57 Lakh',\n",
       "       '9.48 Lakh', '8.95 Lakh', '23.19 Lakh', '8.24 Lakh', '8.71 Lakh',\n",
       "       '44.75 Lakh', '87.57 Lakh', '8.57 Lakh', '7.56 Lakh', '43.07 Lakh',\n",
       "       '7.83 Lakh', '6 Lakh', '13.76 Lakh', '14.11 Lakh', '12.47 Lakh',\n",
       "       '6.51 Lakh', '7.52 Lakh', '15.68 Lakh', '7.45 Lakh', '20.48 Lakh',\n",
       "       '15.17 Lakh', '8.13 Lakh', '8.79 Lakh', '14.72 Lakh', '25.54 Lakh',\n",
       "       '16.84 Lakh', '8.28 Lakh', '23.94 Lakh', '69.37 Lakh', '9.04 Lakh',\n",
       "       '55.07 Lakh', '10.97 Lakh', '21.72 Lakh', '4.9 Lakh', '10.1 Lakh',\n",
       "       '12.53 Lakh', '20.87 Lakh', '5.9 Lakh', '64.57 Lakh', '17.21 Lakh',\n",
       "       '6.56 Lakh', '47.2 Lakh', '10.14 Lakh', '1.6 Cr', '5.44 Lakh',\n",
       "       '26.55 Lakh', '8.26 Lakh', '4.5 Lakh', '56.97 Lakh', '11.19 Lakh',\n",
       "       '13.33 Lakh', '8.75 Lakh', '21.1 Lakh', '10.28 Lakh', '11.56 Lakh',\n",
       "       '27.07 Lakh', '4.36 Lakh', '10.81 Lakh', '8.55 Lakh', '22.66 Lakh',\n",
       "       '4.24 Lakh', '41.02 Lakh', '17 Lakh', '2.3 Cr', '10.89 Lakh',\n",
       "       '40.62 Lakh', '7.54 Lakh', '30.19 Lakh', '5.56 Lakh', '4.43 Lakh',\n",
       "       '37.17 Lakh', '12.9 Lakh', '19.18 Lakh', '10.99 Lakh',\n",
       "       '12.23 Lakh', '11.63 Lakh', '12.27 Lakh', '3.91 Lakh', '44.8 Lakh',\n",
       "       '50.4 Lakh', '4.04 Lakh', '11.96 Lakh', '11.44 Lakh', '24.63 Lakh',\n",
       "       '50.26 Lakh', '13.72 Lakh', '23.14 Lakh', '6.29 Lakh', '8.18 Lakh',\n",
       "       '7.48 Lakh', '83.92 Lakh', '36.94 Lakh', '13.6 Lakh', '10.7 Lakh',\n",
       "       '4.87 Lakh', '92.79 Lakh', '5.8 Lakh', '62.11 Lakh', '10.83 Lakh',\n",
       "       '11.05 Lakh', '9.99 Lakh', '14.32 Lakh', '6.21 Lakh', '74.49 Lakh',\n",
       "       '8.03 Lakh', '1.71 Cr', '37.9 Lakh', '32.54 Lakh', '11.71 Lakh',\n",
       "       '3.98 Lakh', '4.55 Lakh', '8.8 Lakh', '11.13 Lakh', '11.58 Lakh',\n",
       "       '10.63 Lakh', '12.68 Lakh', '17.7 Lakh', '14.23 Lakh', '9.62 Lakh',\n",
       "       '53.14 Lakh', '8.91 Lakh', '10.26 Lakh', '6.94 Lakh', '15.59 Lakh',\n",
       "       '78.31 Lakh', '42.89 Lakh', '9.56 Lakh', '64.76 Lakh',\n",
       "       '99.92 Lakh', '69.22 Lakh', '18.45 Lakh', '9.89 Lakh', '7.94 Lakh',\n",
       "       '8.73 Lakh', '8.69 Lakh', '42.4 Lakh', '23.37 Lakh', '79.78 Lakh',\n",
       "       '16.6 Lakh', '4.93 Lakh', '14.2 Lakh', '10.42 Lakh', '9.55 Lakh',\n",
       "       '5.45 Lakh', '8.38 Lakh', '5.95 Lakh', '15.36 Lakh', '10.94 Lakh',\n",
       "       '10.15 Lakh', '9.83 Lakh', '7.67 Lakh', '9.97 Lakh', '67.67 Lakh',\n",
       "       '53.68 Lakh', '6.05 Lakh', '10.25 Lakh', '8.23 Lakh', '7.01 Lakh',\n",
       "       '6.8 Lakh', '25.27 Lakh', '57.3 Lakh', '5.68 Lakh', '9.36 Lakh',\n",
       "       '38.72 Lakh', '7.7 Lakh', '6.43 Lakh', '5.67 Lakh', '3.96 Lakh',\n",
       "       '39.27 Lakh', '33.51 Lakh', '15.94 Lakh', '7.15 Lakh', '13.4 Lakh',\n",
       "       '11.88 Lakh', '21.36 Lakh', '5.92 Lakh', '6.42 Lakh', '8.99 Lakh',\n",
       "       '12.44 Lakh', '5.77 Lakh', '15.01 Lakh', '40.73 Lakh',\n",
       "       '33.21 Lakh', '4.45 Lakh', '20.46 Lakh', '39.22 Lakh', '7.77 Lakh',\n",
       "       '11.91 Lakh', '9.93 Lakh', '9.27 Lakh', '14.95 Lakh', '5.78 Lakh',\n",
       "       '6.3 Lakh', '5.74 Lakh', '52.96 Lakh', '15.93 Lakh', '3.99 Lakh',\n",
       "       '1.58 Cr', '6.15 Lakh', '31.93 Lakh', '15.88 Lakh', '7.19 Lakh',\n",
       "       '56.98 Lakh', '14.13 Lakh', '25.04 Lakh', '8.92 Lakh', '5.01 Lakh',\n",
       "       '19.01 Lakh', '9.45 Lakh', '3.75 Cr', '35.16 Lakh', '6.24 Lakh',\n",
       "       '9.42 Lakh', '4.56 Lakh', '29.9 Lakh', '7.12 Lakh', '9.94 Lakh',\n",
       "       '6.44 Lakh', '16.82 Lakh', '63.47 Lakh', '6.7 Lakh', '34.1 Lakh',\n",
       "       '5.31 Lakh', '15.24 Lakh', '36.5 Lakh', '37.03 Lakh', '10.86 Lakh',\n",
       "       '59.12 Lakh', '5.79 Lakh', '10.55 Lakh', '15.73 Lakh',\n",
       "       '27.56 Lakh', '4.75 Lakh', '7.08 Lakh', '77.92 Lakh', '14.86 Lakh',\n",
       "       '26.14 Lakh', '32.41 Lakh', '12.05 Lakh', '6.38 Lakh', '5.89 Lakh',\n",
       "       '6.55 Lakh', '7.79 Lakh', '18.32 Lakh', '16.64 Lakh', '9.54 Lakh',\n",
       "       '23.29 Lakh', '13.08 Lakh', '4.02 Lakh', '66.71 Lakh',\n",
       "       '15.11 Lakh', '49.12 Lakh', '10.51 Lakh', '8.65 Lakh', '8.6 Lakh',\n",
       "       '10.36 Lakh', '20.69 Lakh', '4.25 Lakh', '92.01 Lakh', '7.9 Lakh',\n",
       "       '7.21 Lakh', '16.94 Lakh', '5.27 Lakh', '11.14 Lakh', '20.01 Lakh',\n",
       "       '32.62 Lakh', '11.59 Lakh', '6.46 Lakh', '19.72 Lakh',\n",
       "       '12.46 Lakh', '9.11 Lakh', '5.53 Lakh', '7.06 Lakh', '18.16 Lakh'],\n",
       "      dtype=object)"
      ]
     },
     "execution_count": 117,
     "metadata": {},
     "output_type": "execute_result"
    }
   ],
   "source": [
    "df['New_Price'].unique()"
   ]
  },
  {
   "cell_type": "code",
   "execution_count": 118,
   "id": "88304449-5eea-4c9d-8abe-90636c47abee",
   "metadata": {},
   "outputs": [],
   "source": [
    "df['New_Price']=df['New_Price'].fillna('NAN')"
   ]
  },
  {
   "cell_type": "code",
   "execution_count": 119,
   "id": "32b7e4cf-7ce1-4660-a5e8-139c0832d50f",
   "metadata": {},
   "outputs": [
    {
     "data": {
      "text/plain": [
       "S.No.                0\n",
       "Name                 0\n",
       "Location             0\n",
       "Year                 0\n",
       "Kilometers_Driven    0\n",
       "Fuel_Type            0\n",
       "Transmission         0\n",
       "Owner_Type           0\n",
       "Mileage              2\n",
       "Engine               0\n",
       "Power                0\n",
       "Seats                0\n",
       "New_Price            0\n",
       "Price                0\n",
       "dtype: int64"
      ]
     },
     "execution_count": 119,
     "metadata": {},
     "output_type": "execute_result"
    }
   ],
   "source": [
    "df.isnull().sum()"
   ]
  },
  {
   "cell_type": "code",
   "execution_count": 120,
   "id": "681af2e6-2c89-4f22-bf9c-924c110b07c7",
   "metadata": {},
   "outputs": [
    {
     "data": {
      "text/plain": [
       "array(['26.6 km/kg', '19.67 kmpl', '18.2 kmpl', '20.77 kmpl', '15.2 kmpl',\n",
       "       '21.1 km/kg', '23.08 kmpl', '11.36 kmpl', '20.54 kmpl',\n",
       "       '22.3 kmpl', '21.56 kmpl', '16.8 kmpl', '25.2 kmpl', '12.7 kmpl',\n",
       "       '0.0 kmpl', '13.5 kmpl', '25.8 kmpl', '28.4 kmpl', '20.45 kmpl',\n",
       "       '14.84 kmpl', '22.69 kmpl', '23.65 kmpl', '13.53 kmpl',\n",
       "       '18.5 kmpl', '14.4 kmpl', '20.92 kmpl', '17.5 kmpl', '12.8 kmpl',\n",
       "       '19.01 kmpl', '14.53 kmpl', '11.18 kmpl', '12.4 kmpl',\n",
       "       '16.09 kmpl', '14.0 kmpl', '24.3 kmpl', '18.15 kmpl', '11.74 kmpl',\n",
       "       '22.07 kmpl', '19.7 kmpl', '25.4 kmpl', '25.32 kmpl', '14.62 kmpl',\n",
       "       '14.28 kmpl', '14.9 kmpl', '11.25 kmpl', '24.4 kmpl', '16.55 kmpl',\n",
       "       '17.11 kmpl', '22.9 kmpl', '17.8 kmpl', '18.9 kmpl', '15.04 kmpl',\n",
       "       '25.17 kmpl', '20.36 kmpl', '13.29 kmpl', '13.68 kmpl',\n",
       "       '20.0 kmpl', '15.8 kmpl', '25.0 kmpl', '16.4 kmpl', '24.52 kmpl',\n",
       "       '22.1 kmpl', '8.5 kmpl', '15.1 kmpl', '16.95 kmpl', '19.64 kmpl',\n",
       "       '16.5 kmpl', '18.53 kmpl', '17.57 kmpl', '18.0 kmpl', '23.2 kmpl',\n",
       "       '16.73 kmpl', '17.0 kmpl', '13.0 kmpl', '17.68 kmpl', '22.7 kmpl',\n",
       "       '16.2 kmpl', '15.26 kmpl', '23.0 kmpl', '19.83 kmpl', '14.94 kmpl',\n",
       "       '17.71 kmpl', '14.74 kmpl', '16.0 kmpl', '22.32 kmpl',\n",
       "       '12.99 kmpl', '23.3 kmpl', '19.15 kmpl', '10.8 kmpl', '15.0 kmpl',\n",
       "       '22.0 kmpl', '21.9 kmpl', '12.05 kmpl', '11.7 kmpl', '21.21 kmpl',\n",
       "       '20.73 kmpl', '21.1 kmpl', '24.07 kmpl', '19.0 kmpl', '20.58 kmpl',\n",
       "       '19.27 kmpl', '11.5 kmpl', '18.6 kmpl', '21.14 kmpl', '11.05 kmpl',\n",
       "       '21.76 kmpl', '7.81 kmpl', '21.66 kmpl', '17.2 kmpl', '20.63 kmpl',\n",
       "       '19.4 kmpl', '14.8 kmpl', '26.0 kmpl', '20.4 kmpl', '21.5 kmpl',\n",
       "       '15.3 kmpl', '17.9 kmpl', '16.6 kmpl', '22.54 kmpl', '25.44 kmpl',\n",
       "       '13.7 kmpl', '22.48 kmpl', '12.9 kmpl', '19.98 kmpl', '21.4 kmpl',\n",
       "       '19.81 kmpl', '15.4 kmpl', '25.47 kmpl', '19.87 kmpl',\n",
       "       '17.45 kmpl', '14.7 kmpl', '15.64 kmpl', '15.73 kmpl',\n",
       "       '23.59 kmpl', '16.1 kmpl', '27.4 kmpl', '20.46 kmpl', '15.29 kmpl',\n",
       "       '20.51 kmpl', '11.8 kmpl', '14.3 kmpl', '14.67 kmpl', '17.19 kmpl',\n",
       "       '21.03 kmpl', '22.5 kmpl', '16.82 kmpl', '11.72 kmpl', '17.4 kmpl',\n",
       "       '17.05 kmpl', '24.0 kmpl', '28.09 kmpl', '20.5 kmpl', '13.1 kmpl',\n",
       "       '19.91 kmpl', '18.7 kmpl', '16.38 kmpl', '11.57 kmpl', '17.3 kmpl',\n",
       "       '22.95 kmpl', '18.88 kmpl', '23.4 kmpl', '22.74 kmpl',\n",
       "       '12.07 kmpl', '17.1 kmpl', '18.48 kmpl', '16.47 kmpl', '23.1 kmpl',\n",
       "       '14.07 kmpl', '16.02 kmpl', '19.3 kmpl', '17.7 kmpl', '9.52 kmpl',\n",
       "       '14.75 kmpl', '26.3 km/kg', '11.3 kmpl', '21.12 kmpl',\n",
       "       '21.02 kmpl', '14.45 kmpl', '19.33 kmpl', '13.8 kmpl', '24.7 kmpl',\n",
       "       '11.0 kmpl', '11.07 kmpl', '21.43 kmpl', '14.21 kmpl',\n",
       "       '18.86 kmpl', '16.07 kmpl', '13.49 kmpl', '20.38 kmpl',\n",
       "       '12.0 kmpl', '17.01 kmpl', '13.2 kmpl', '20.37 kmpl', '15.1 km/kg',\n",
       "       '15.96 kmpl', '14.16 kmpl', '13.17 kmpl', '27.62 kmpl',\n",
       "       '25.1 kmpl', '15.17 kmpl', '11.33 kmpl', '17.92 kmpl',\n",
       "       '12.55 kmpl', '12.6 kmpl', '17.72 kmpl', '18.16 kmpl',\n",
       "       '15.68 kmpl', '15.5 kmpl', '12.1 kmpl', '14.83 kmpl', '17.6 kmpl',\n",
       "       '14.6 kmpl', '14.66 kmpl', '10.93 kmpl', '20.68 kmpl', '9.9 kmpl',\n",
       "       '21.13 kmpl', '20.14 kmpl', '19.2 kmpl', '27.3 kmpl', '16.36 kmpl',\n",
       "       '26.59 kmpl', '12.5 kmpl', '13.6 kmpl', '15.06 kmpl', '10.13 kmpl',\n",
       "       '17.21 kmpl', '15.97 kmpl', '10.5 kmpl', '14.69 kmpl', '23.9 kmpl',\n",
       "       '19.1 kmpl', '21.27 kmpl', '15.9 kmpl', '20.7 kmpl', '14.1 kmpl',\n",
       "       '20.89 kmpl', '18.12 kmpl', '12.3 kmpl', '19.71 kmpl', '9.43 kmpl',\n",
       "       '13.4 kmpl', '13.14 kmpl', '18.1 kmpl', '22.77 kmpl', '14.49 kmpl',\n",
       "       '12.39 kmpl', '10.91 kmpl', '20.85 kmpl', '15.63 kmpl',\n",
       "       '27.39 kmpl', '18.3 kmpl', '16.78 kmpl', '25.5 kmpl', '10.0 kmpl',\n",
       "       '13.73 kmpl', '24.2 kmpl', '14.02 kmpl', '26.83 km/kg',\n",
       "       '16.77 kmpl', '24.5 kmpl', '20.34 kmpl', '21.7 kmpl', '9.7 kmpl',\n",
       "       '14.33 kmpl', '21.64 kmpl', '13.2 km/kg', '19.16 kmpl',\n",
       "       '16.93 kmpl', '9.0 kmpl', '26.2 km/kg', '16.3 kmpl', '12.62 kmpl',\n",
       "       '17.3 km/kg', '20.64 kmpl', '14.24 kmpl', '18.06 kmpl',\n",
       "       '10.2 kmpl', '10.1 kmpl', '18.25 kmpl', '13.93 kmpl', '25.83 kmpl',\n",
       "       '8.6 kmpl', '13.24 kmpl', '17.09 kmpl', '23.84 kmpl', '8.45 kmpl',\n",
       "       '19.6 kmpl', '19.5 kmpl', '20.3 kmpl', '16.05 kmpl', '11.2 kmpl',\n",
       "       '27.03 kmpl', '18.78 kmpl', '12.35 kmpl', '14.59 kmpl',\n",
       "       '17.32 kmpl', '14.95 kmpl', '13.22 kmpl', '23.03 kmpl',\n",
       "       '33.44 km/kg', '15.6 kmpl', '19.12 kmpl', '10.98 kmpl',\n",
       "       '33.54 km/kg', '16.46 kmpl', '18.4 kmpl', '11.1 kmpl',\n",
       "       '13.01 kmpl', '18.8 kmpl', '16.52 kmpl', '18.44 kmpl',\n",
       "       '19.49 kmpl', '23.5 kmpl', '23.8 kmpl', '12.65 kmpl', '20.65 kmpl',\n",
       "       '21.72 kmpl', '12.19 kmpl', '26.1 kmpl', '18.33 kmpl',\n",
       "       '12.81 kmpl', '17.5 km/kg', '17.06 kmpl', '17.67 kmpl',\n",
       "       '19.34 kmpl', '8.3 kmpl', '16.96 kmpl', '11.79 kmpl', '20.86 kmpl',\n",
       "       '16.98 kmpl', '11.68 kmpl', '15.74 kmpl', '15.7 kmpl',\n",
       "       '18.49 kmpl', '10.9 kmpl', '19.59 kmpl', '11.4 kmpl', '13.06 kmpl',\n",
       "       '21.0 kmpl', '15.15 kmpl', '16.9 kmpl', '18.23 kmpl', '25.0 km/kg',\n",
       "       '17.16 kmpl', '17.43 kmpl', '19.08 kmpl', '18.56 kmpl',\n",
       "       '11.9 kmpl', '24.6 km/kg', '21.79 kmpl', '12.95 kmpl', '25.6 kmpl',\n",
       "       '13.45 km/kg', '26.21 kmpl', '13.58 kmpl', '16.25 kmpl',\n",
       "       '10.4 kmpl', '17.44 kmpl', '19.2 km/kg', '22.71 kmpl',\n",
       "       '17.54 kmpl', '22.1 km/kg', '17.0 km/kg', '15.87 kmpl', '9.5 kmpl',\n",
       "       '11.56 kmpl', '14.39 kmpl', '19.09 kmpl', '17.85 kmpl',\n",
       "       '31.79 km/kg', '18.18 kmpl', '21.19 kmpl', '21.8 kmpl',\n",
       "       '15.42 kmpl', '14.47 kmpl', '19.69 kmpl', '12.83 kmpl', '8.0 kmpl',\n",
       "       '22.8 km/kg', '12.63 kmpl', '14.57 kmpl', '27.28 kmpl',\n",
       "       '15.41 kmpl', '32.26 km/kg', '18.19 kmpl', '13.33 kmpl',\n",
       "       '16.7 kmpl', '17.84 kmpl', '20.0 km/kg', '23.19 kmpl',\n",
       "       '11.49 kmpl', '18.51 kmpl', '13.44 kmpl', '8.7 kmpl', '8.77 kmpl',\n",
       "       '17.97 kmpl', '23.57 kmpl', '12.37 kmpl', '9.1 kmpl', '12.51 kmpl',\n",
       "       '19.44 kmpl', '21.38 kmpl', '16.51 kmpl', '24.8 kmpl',\n",
       "       '14.42 kmpl', '14.53 km/kg', '26.8 kmpl', '24.04 kmpl', '9.8 kmpl',\n",
       "       '19.68 kmpl', '21.4 km/kg', '21.2 kmpl', '19.72 kmpl', '14.2 kmpl',\n",
       "       '12.98 kmpl', '23.01 kmpl', '16.12 kmpl', '9.3 kmpl', '15.85 kmpl',\n",
       "       nan, '17.88 kmpl', '10.6 kmpl', '11.78 kmpl', '7.94 kmpl',\n",
       "       '25.01 kmpl', '8.1 kmpl', '13.9 kmpl', '11.62 kmpl', '20.62 kmpl',\n",
       "       '15.11 kmpl', '10.37 kmpl', '18.59 kmpl', '9.74 kmpl',\n",
       "       '14.81 kmpl', '8.2 kmpl', '12.97 kmpl', '7.5 kmpl', '30.46 km/kg',\n",
       "       '6.4 kmpl', '12.85 kmpl', '18.69 kmpl', '17.24 kmpl', '13.07 kmpl',\n",
       "       '12.2 kmpl', '20.8 kmpl', '11.88 km/kg', '12.08 kmpl',\n",
       "       '15.56 kmpl', '14.5 kmpl', '17.15 kmpl'], dtype=object)"
      ]
     },
     "execution_count": 120,
     "metadata": {},
     "output_type": "execute_result"
    }
   ],
   "source": [
    "df['Mileage'].unique()"
   ]
  },
  {
   "cell_type": "code",
   "execution_count": 121,
   "id": "4540ab60-8ff9-466a-aacc-b73094d429ab",
   "metadata": {},
   "outputs": [],
   "source": [
    "df_mode4=df.Mileage.mode()[0]"
   ]
  },
  {
   "cell_type": "code",
   "execution_count": 122,
   "id": "3f569867-6a6d-495a-9090-1572c3341cf9",
   "metadata": {},
   "outputs": [
    {
     "data": {
      "text/plain": [
       "'17.0 kmpl'"
      ]
     },
     "execution_count": 122,
     "metadata": {},
     "output_type": "execute_result"
    }
   ],
   "source": [
    "df_mode4"
   ]
  },
  {
   "cell_type": "code",
   "execution_count": 123,
   "id": "5faae59d-06da-4aec-a91c-2a3edcb82662",
   "metadata": {},
   "outputs": [
    {
     "name": "stderr",
     "output_type": "stream",
     "text": [
      "/tmp/ipykernel_15084/3020661230.py:1: FutureWarning: A value is trying to be set on a copy of a DataFrame or Series through chained assignment using an inplace method.\n",
      "The behavior will change in pandas 3.0. This inplace method will never work because the intermediate object on which we are setting values always behaves as a copy.\n",
      "\n",
      "For example, when doing 'df[col].method(value, inplace=True)', try using 'df.method({col: value}, inplace=True)' or df[col] = df[col].method(value) instead, to perform the operation inplace on the original object.\n",
      "\n",
      "\n",
      "  df.Mileage.fillna(df_mode4,inplace=True)\n"
     ]
    }
   ],
   "source": [
    "df.Mileage.fillna(df_mode4,inplace=True)"
   ]
  },
  {
   "cell_type": "code",
   "execution_count": 124,
   "id": "04c6fa05-f3f3-4fcd-ba68-ab3820b52127",
   "metadata": {},
   "outputs": [
    {
     "data": {
      "text/plain": [
       "S.No.                0\n",
       "Name                 0\n",
       "Location             0\n",
       "Year                 0\n",
       "Kilometers_Driven    0\n",
       "Fuel_Type            0\n",
       "Transmission         0\n",
       "Owner_Type           0\n",
       "Mileage              0\n",
       "Engine               0\n",
       "Power                0\n",
       "Seats                0\n",
       "New_Price            0\n",
       "Price                0\n",
       "dtype: int64"
      ]
     },
     "execution_count": 124,
     "metadata": {},
     "output_type": "execute_result"
    }
   ],
   "source": [
    "df.isnull().sum()"
   ]
  },
  {
   "cell_type": "code",
   "execution_count": 130,
   "id": "e2f582d4-9309-4f8c-9bf0-c9569d36326e",
   "metadata": {},
   "outputs": [],
   "source": [
    "from sklearn.datasets import fetch_openml"
   ]
  },
  {
   "cell_type": "code",
   "execution_count": null,
   "id": "a64e227b-c106-4d53-a378-67bf9ad0dc14",
   "metadata": {},
   "outputs": [],
   "source": []
  },
  {
   "cell_type": "code",
   "execution_count": 131,
   "id": "fa5ebad6-cf5b-468a-8296-f87b775a0086",
   "metadata": {},
   "outputs": [],
   "source": [
    "ad=pd.DataFrame(df)"
   ]
  },
  {
   "cell_type": "code",
   "execution_count": null,
   "id": "c8318b3b-c39d-48c6-9dab-fe862b3a4196",
   "metadata": {},
   "outputs": [],
   "source": []
  },
  {
   "cell_type": "code",
   "execution_count": 132,
   "id": "f655c3bd-4d8d-42b9-bd81-8158bbe5d711",
   "metadata": {},
   "outputs": [
    {
     "data": {
      "text/html": [
       "<div>\n",
       "<style scoped>\n",
       "    .dataframe tbody tr th:only-of-type {\n",
       "        vertical-align: middle;\n",
       "    }\n",
       "\n",
       "    .dataframe tbody tr th {\n",
       "        vertical-align: top;\n",
       "    }\n",
       "\n",
       "    .dataframe thead th {\n",
       "        text-align: right;\n",
       "    }\n",
       "</style>\n",
       "<table border=\"1\" class=\"dataframe\">\n",
       "  <thead>\n",
       "    <tr style=\"text-align: right;\">\n",
       "      <th></th>\n",
       "      <th>S.No.</th>\n",
       "      <th>Name</th>\n",
       "      <th>Location</th>\n",
       "      <th>Year</th>\n",
       "      <th>Kilometers_Driven</th>\n",
       "      <th>Fuel_Type</th>\n",
       "      <th>Transmission</th>\n",
       "      <th>Owner_Type</th>\n",
       "      <th>Mileage</th>\n",
       "      <th>Engine</th>\n",
       "      <th>Power</th>\n",
       "      <th>Seats</th>\n",
       "      <th>New_Price</th>\n",
       "      <th>Price</th>\n",
       "    </tr>\n",
       "  </thead>\n",
       "  <tbody>\n",
       "    <tr>\n",
       "      <th>0</th>\n",
       "      <td>0</td>\n",
       "      <td>Maruti Wagon R LXI CNG</td>\n",
       "      <td>Mumbai</td>\n",
       "      <td>2010</td>\n",
       "      <td>72000</td>\n",
       "      <td>CNG</td>\n",
       "      <td>Manual</td>\n",
       "      <td>First</td>\n",
       "      <td>26.6 km/kg</td>\n",
       "      <td>998 CC</td>\n",
       "      <td>58.16 bhp</td>\n",
       "      <td>5.0</td>\n",
       "      <td>NAN</td>\n",
       "      <td>1.75</td>\n",
       "    </tr>\n",
       "    <tr>\n",
       "      <th>1</th>\n",
       "      <td>1</td>\n",
       "      <td>Hyundai Creta 1.6 CRDi SX Option</td>\n",
       "      <td>Pune</td>\n",
       "      <td>2015</td>\n",
       "      <td>41000</td>\n",
       "      <td>Diesel</td>\n",
       "      <td>Manual</td>\n",
       "      <td>First</td>\n",
       "      <td>19.67 kmpl</td>\n",
       "      <td>1582 CC</td>\n",
       "      <td>126.2 bhp</td>\n",
       "      <td>5.0</td>\n",
       "      <td>NAN</td>\n",
       "      <td>12.50</td>\n",
       "    </tr>\n",
       "    <tr>\n",
       "      <th>2</th>\n",
       "      <td>2</td>\n",
       "      <td>Honda Jazz V</td>\n",
       "      <td>Chennai</td>\n",
       "      <td>2011</td>\n",
       "      <td>46000</td>\n",
       "      <td>Petrol</td>\n",
       "      <td>Manual</td>\n",
       "      <td>First</td>\n",
       "      <td>18.2 kmpl</td>\n",
       "      <td>1199 CC</td>\n",
       "      <td>88.7 bhp</td>\n",
       "      <td>5.0</td>\n",
       "      <td>8.61 Lakh</td>\n",
       "      <td>4.50</td>\n",
       "    </tr>\n",
       "    <tr>\n",
       "      <th>3</th>\n",
       "      <td>3</td>\n",
       "      <td>Maruti Ertiga VDI</td>\n",
       "      <td>Chennai</td>\n",
       "      <td>2012</td>\n",
       "      <td>87000</td>\n",
       "      <td>Diesel</td>\n",
       "      <td>Manual</td>\n",
       "      <td>First</td>\n",
       "      <td>20.77 kmpl</td>\n",
       "      <td>1248 CC</td>\n",
       "      <td>88.76 bhp</td>\n",
       "      <td>7.0</td>\n",
       "      <td>NAN</td>\n",
       "      <td>6.00</td>\n",
       "    </tr>\n",
       "    <tr>\n",
       "      <th>4</th>\n",
       "      <td>4</td>\n",
       "      <td>Audi A4 New 2.0 TDI Multitronic</td>\n",
       "      <td>Coimbatore</td>\n",
       "      <td>2013</td>\n",
       "      <td>40670</td>\n",
       "      <td>Diesel</td>\n",
       "      <td>Automatic</td>\n",
       "      <td>Second</td>\n",
       "      <td>15.2 kmpl</td>\n",
       "      <td>1968 CC</td>\n",
       "      <td>140.8 bhp</td>\n",
       "      <td>5.0</td>\n",
       "      <td>NAN</td>\n",
       "      <td>17.74</td>\n",
       "    </tr>\n",
       "    <tr>\n",
       "      <th>...</th>\n",
       "      <td>...</td>\n",
       "      <td>...</td>\n",
       "      <td>...</td>\n",
       "      <td>...</td>\n",
       "      <td>...</td>\n",
       "      <td>...</td>\n",
       "      <td>...</td>\n",
       "      <td>...</td>\n",
       "      <td>...</td>\n",
       "      <td>...</td>\n",
       "      <td>...</td>\n",
       "      <td>...</td>\n",
       "      <td>...</td>\n",
       "      <td>...</td>\n",
       "    </tr>\n",
       "    <tr>\n",
       "      <th>7248</th>\n",
       "      <td>7248</td>\n",
       "      <td>Volkswagen Vento Diesel Trendline</td>\n",
       "      <td>Hyderabad</td>\n",
       "      <td>2011</td>\n",
       "      <td>89411</td>\n",
       "      <td>Diesel</td>\n",
       "      <td>Manual</td>\n",
       "      <td>First</td>\n",
       "      <td>20.54 kmpl</td>\n",
       "      <td>1598 CC</td>\n",
       "      <td>103.6 bhp</td>\n",
       "      <td>5.0</td>\n",
       "      <td>NAN</td>\n",
       "      <td>4.50</td>\n",
       "    </tr>\n",
       "    <tr>\n",
       "      <th>7249</th>\n",
       "      <td>7249</td>\n",
       "      <td>Volkswagen Polo GT TSI</td>\n",
       "      <td>Mumbai</td>\n",
       "      <td>2015</td>\n",
       "      <td>59000</td>\n",
       "      <td>Petrol</td>\n",
       "      <td>Automatic</td>\n",
       "      <td>First</td>\n",
       "      <td>17.21 kmpl</td>\n",
       "      <td>1197 CC</td>\n",
       "      <td>103.6 bhp</td>\n",
       "      <td>5.0</td>\n",
       "      <td>NAN</td>\n",
       "      <td>4.50</td>\n",
       "    </tr>\n",
       "    <tr>\n",
       "      <th>7250</th>\n",
       "      <td>7250</td>\n",
       "      <td>Nissan Micra Diesel XV</td>\n",
       "      <td>Kolkata</td>\n",
       "      <td>2012</td>\n",
       "      <td>28000</td>\n",
       "      <td>Diesel</td>\n",
       "      <td>Manual</td>\n",
       "      <td>First</td>\n",
       "      <td>23.08 kmpl</td>\n",
       "      <td>1461 CC</td>\n",
       "      <td>63.1 bhp</td>\n",
       "      <td>5.0</td>\n",
       "      <td>NAN</td>\n",
       "      <td>4.50</td>\n",
       "    </tr>\n",
       "    <tr>\n",
       "      <th>7251</th>\n",
       "      <td>7251</td>\n",
       "      <td>Volkswagen Polo GT TSI</td>\n",
       "      <td>Pune</td>\n",
       "      <td>2013</td>\n",
       "      <td>52262</td>\n",
       "      <td>Petrol</td>\n",
       "      <td>Automatic</td>\n",
       "      <td>Third</td>\n",
       "      <td>17.2 kmpl</td>\n",
       "      <td>1197 CC</td>\n",
       "      <td>103.6 bhp</td>\n",
       "      <td>5.0</td>\n",
       "      <td>NAN</td>\n",
       "      <td>4.50</td>\n",
       "    </tr>\n",
       "    <tr>\n",
       "      <th>7252</th>\n",
       "      <td>7252</td>\n",
       "      <td>Mercedes-Benz E-Class 2009-2013 E 220 CDI Avan...</td>\n",
       "      <td>Kochi</td>\n",
       "      <td>2014</td>\n",
       "      <td>72443</td>\n",
       "      <td>Diesel</td>\n",
       "      <td>Automatic</td>\n",
       "      <td>First</td>\n",
       "      <td>10.0 kmpl</td>\n",
       "      <td>2148 CC</td>\n",
       "      <td>170 bhp</td>\n",
       "      <td>5.0</td>\n",
       "      <td>NAN</td>\n",
       "      <td>4.50</td>\n",
       "    </tr>\n",
       "  </tbody>\n",
       "</table>\n",
       "<p>7253 rows × 14 columns</p>\n",
       "</div>"
      ],
      "text/plain": [
       "      S.No.  ...  Price\n",
       "0         0  ...   1.75\n",
       "1         1  ...  12.50\n",
       "2         2  ...   4.50\n",
       "3         3  ...   6.00\n",
       "4         4  ...  17.74\n",
       "...     ...  ...    ...\n",
       "7248   7248  ...   4.50\n",
       "7249   7249  ...   4.50\n",
       "7250   7250  ...   4.50\n",
       "7251   7251  ...   4.50\n",
       "7252   7252  ...   4.50\n",
       "\n",
       "[7253 rows x 14 columns]"
      ]
     },
     "execution_count": 132,
     "metadata": {},
     "output_type": "execute_result"
    }
   ],
   "source": [
    "ad"
   ]
  },
  {
   "cell_type": "code",
   "execution_count": null,
   "id": "061e8442-24b6-43e2-9be1-f48acc303c65",
   "metadata": {},
   "outputs": [],
   "source": []
  },
  {
   "cell_type": "code",
   "execution_count": 129,
   "id": "e88595f8-23ff-427c-ba2b-661df9d73d70",
   "metadata": {},
   "outputs": [
    {
     "data": {
      "text/html": [
       "<div>\n",
       "<style scoped>\n",
       "    .dataframe tbody tr th:only-of-type {\n",
       "        vertical-align: middle;\n",
       "    }\n",
       "\n",
       "    .dataframe tbody tr th {\n",
       "        vertical-align: top;\n",
       "    }\n",
       "\n",
       "    .dataframe thead th {\n",
       "        text-align: right;\n",
       "    }\n",
       "</style>\n",
       "<table border=\"1\" class=\"dataframe\">\n",
       "  <thead>\n",
       "    <tr style=\"text-align: right;\">\n",
       "      <th></th>\n",
       "      <th>S.No.</th>\n",
       "      <th>Name</th>\n",
       "      <th>Location</th>\n",
       "      <th>Year</th>\n",
       "      <th>Kilometers_Driven</th>\n",
       "      <th>Fuel_Type</th>\n",
       "      <th>Transmission</th>\n",
       "      <th>Owner_Type</th>\n",
       "      <th>Mileage</th>\n",
       "      <th>Engine</th>\n",
       "      <th>Power</th>\n",
       "      <th>Seats</th>\n",
       "      <th>New_Price</th>\n",
       "      <th>Price</th>\n",
       "    </tr>\n",
       "  </thead>\n",
       "  <tbody>\n",
       "    <tr>\n",
       "      <th>0</th>\n",
       "      <td>0</td>\n",
       "      <td>Maruti Wagon R LXI CNG</td>\n",
       "      <td>Mumbai</td>\n",
       "      <td>2010</td>\n",
       "      <td>72000</td>\n",
       "      <td>CNG</td>\n",
       "      <td>Manual</td>\n",
       "      <td>First</td>\n",
       "      <td>26.6 km/kg</td>\n",
       "      <td>998 CC</td>\n",
       "      <td>58.16 bhp</td>\n",
       "      <td>5.0</td>\n",
       "      <td>NAN</td>\n",
       "      <td>1.75</td>\n",
       "    </tr>\n",
       "    <tr>\n",
       "      <th>1</th>\n",
       "      <td>1</td>\n",
       "      <td>Hyundai Creta 1.6 CRDi SX Option</td>\n",
       "      <td>Pune</td>\n",
       "      <td>2015</td>\n",
       "      <td>41000</td>\n",
       "      <td>Diesel</td>\n",
       "      <td>Manual</td>\n",
       "      <td>First</td>\n",
       "      <td>19.67 kmpl</td>\n",
       "      <td>1582 CC</td>\n",
       "      <td>126.2 bhp</td>\n",
       "      <td>5.0</td>\n",
       "      <td>NAN</td>\n",
       "      <td>12.50</td>\n",
       "    </tr>\n",
       "    <tr>\n",
       "      <th>2</th>\n",
       "      <td>2</td>\n",
       "      <td>Honda Jazz V</td>\n",
       "      <td>Chennai</td>\n",
       "      <td>2011</td>\n",
       "      <td>46000</td>\n",
       "      <td>Petrol</td>\n",
       "      <td>Manual</td>\n",
       "      <td>First</td>\n",
       "      <td>18.2 kmpl</td>\n",
       "      <td>1199 CC</td>\n",
       "      <td>88.7 bhp</td>\n",
       "      <td>5.0</td>\n",
       "      <td>8.61 Lakh</td>\n",
       "      <td>4.50</td>\n",
       "    </tr>\n",
       "    <tr>\n",
       "      <th>3</th>\n",
       "      <td>3</td>\n",
       "      <td>Maruti Ertiga VDI</td>\n",
       "      <td>Chennai</td>\n",
       "      <td>2012</td>\n",
       "      <td>87000</td>\n",
       "      <td>Diesel</td>\n",
       "      <td>Manual</td>\n",
       "      <td>First</td>\n",
       "      <td>20.77 kmpl</td>\n",
       "      <td>1248 CC</td>\n",
       "      <td>88.76 bhp</td>\n",
       "      <td>7.0</td>\n",
       "      <td>NAN</td>\n",
       "      <td>6.00</td>\n",
       "    </tr>\n",
       "    <tr>\n",
       "      <th>4</th>\n",
       "      <td>4</td>\n",
       "      <td>Audi A4 New 2.0 TDI Multitronic</td>\n",
       "      <td>Coimbatore</td>\n",
       "      <td>2013</td>\n",
       "      <td>40670</td>\n",
       "      <td>Diesel</td>\n",
       "      <td>Automatic</td>\n",
       "      <td>Second</td>\n",
       "      <td>15.2 kmpl</td>\n",
       "      <td>1968 CC</td>\n",
       "      <td>140.8 bhp</td>\n",
       "      <td>5.0</td>\n",
       "      <td>NAN</td>\n",
       "      <td>17.74</td>\n",
       "    </tr>\n",
       "  </tbody>\n",
       "</table>\n",
       "</div>"
      ],
      "text/plain": [
       "   S.No.                              Name    Location  ...  Seats  New_Price  Price\n",
       "0      0            Maruti Wagon R LXI CNG      Mumbai  ...    5.0        NAN   1.75\n",
       "1      1  Hyundai Creta 1.6 CRDi SX Option        Pune  ...    5.0        NAN  12.50\n",
       "2      2                      Honda Jazz V     Chennai  ...    5.0  8.61 Lakh   4.50\n",
       "3      3                 Maruti Ertiga VDI     Chennai  ...    7.0        NAN   6.00\n",
       "4      4   Audi A4 New 2.0 TDI Multitronic  Coimbatore  ...    5.0        NAN  17.74\n",
       "\n",
       "[5 rows x 14 columns]"
      ]
     },
     "execution_count": 129,
     "metadata": {},
     "output_type": "execute_result"
    }
   ],
   "source": [
    "ad.head()"
   ]
  },
  {
   "cell_type": "code",
   "execution_count": 137,
   "id": "d16c9183-7a87-46f6-8dd8-cdfeae990d64",
   "metadata": {},
   "outputs": [],
   "source": [
    "import seaborn as sns"
   ]
  },
  {
   "cell_type": "code",
   "execution_count": 138,
   "id": "62e4c190-cbd3-4212-9f2c-7d5fc3bc2b49",
   "metadata": {},
   "outputs": [],
   "source": [
    "import matplotlib.pyplot as plt"
   ]
  },
  {
   "cell_type": "code",
   "execution_count": 139,
   "id": "d009b195-ac30-486b-b406-7d6821d63a13",
   "metadata": {},
   "outputs": [],
   "source": [
    "bost=ad"
   ]
  },
  {
   "cell_type": "code",
   "execution_count": 140,
   "id": "f9e70359-0a05-47da-887d-c704e9ebc800",
   "metadata": {},
   "outputs": [
    {
     "data": {
      "image/png": "[encoded data removed]",
      "text/plain": [
       "<Figure size 1600x800 with 1 Axes>"
      ]
     },
     "metadata": {},
     "output_type": "display_data"
    }
   ],
   "source": [
    "fig,ax=plt.subplots(figsize=(16,8))"
   ]
  },
  {
   "cell_type": "code",
   "execution_count": 173,
   "id": "df70a191-af6a-48e8-a6df-2176bd00706e",
   "metadata": {},
   "outputs": [],
   "source": [
    "ax.scatter(bost['Seats'],bost['Price'])\n",
    "plt.show()"
   ]
  },
  {
   "cell_type": "code",
   "execution_count": 166,
   "id": "184eef5e-1bc3-444c-bc67-82bcfbac1eab",
   "metadata": {},
   "outputs": [],
   "source": [
    "from scipy import stats"
   ]
  },
  {
   "cell_type": "raw",
   "id": "0718f919-160c-4645-bff4-f1c5444be21e",
   "metadata": {},
   "source": []
  },
  {
   "cell_type": "code",
   "execution_count": 168,
   "id": "c20e3c99-b8fc-49e3-8680-8071010e5a80",
   "metadata": {},
   "outputs": [],
   "source": [
    "zscore=np.abs(stats.zscore(bost['Seats']))"
   ]
  },
  {
   "cell_type": "code",
   "execution_count": 169,
   "id": "917072be-755d-4162-bc15-8b9c5d3f70e8",
   "metadata": {},
   "outputs": [
    {
     "data": {
      "text/plain": [
       "0       0.343243\n",
       "1       0.343243\n",
       "2       0.343243\n",
       "3       2.128995\n",
       "4       0.343243\n",
       "          ...   \n",
       "7248    0.343243\n",
       "7249    0.343243\n",
       "7250    0.343243\n",
       "7251    0.343243\n",
       "7252    0.343243\n",
       "Name: Seats, Length: 7253, dtype: float64"
      ]
     },
     "execution_count": 169,
     "metadata": {},
     "output_type": "execute_result"
    }
   ],
   "source": [
    "zscore"
   ]
  },
  {
   "cell_type": "code",
   "execution_count": 174,
   "id": "441d4a01-cca3-49fa-ac00-881f6c28b3eb",
   "metadata": {},
   "outputs": [
    {
     "data": {
      "text/plain": [
       "(array([   7,   60,   77,  125,  134,  185,  276,  441,  557,  602,  615,\n",
       "         623,  629,  693,  768,  771,  774,  790,  798,  814,  860,  915,\n",
       "         917,  926,  965, 1008, 1013, 1046, 1078, 1181, 1222, 1288, 1347,\n",
       "        1441, 1481, 1515, 1521, 1528, 1532, 1653, 1657, 1678, 1686, 1696,\n",
       "        1721, 1881, 1907, 1912, 1969, 2022, 2037, 2049, 2095, 2126, 2169,\n",
       "        2267, 2301, 2305, 2312, 2327, 2346, 2359, 2476, 2522, 2556, 2566,\n",
       "        2568, 2570, 2573, 2575, 2644, 2703, 2763, 2790, 2799, 2854, 2857,\n",
       "        2883, 2893, 2910, 2933, 2937, 2988, 3076, 3084, 3086, 3091, 3112,\n",
       "        3155, 3252, 3264, 3435, 3443, 3482, 3546, 3847, 3859, 3907, 3998,\n",
       "        3999, 4151, 4168, 4196, 4198, 4202, 4203, 4226, 4239, 4246, 4274,\n",
       "        4278, 4350, 4381, 4450, 4501, 4515, 4518, 4526, 4588, 4647, 4662,\n",
       "        4691, 4719, 4722, 4774, 4806, 4809, 4834, 4848, 4893, 4962, 4966,\n",
       "        4969, 5040, 5147, 5201, 5213, 5252, 5294, 5315, 5318, 5334, 5498,\n",
       "        5515, 5531, 5602, 5629, 5647, 5726, 5766, 5781, 5831, 5834, 5852,\n",
       "        5919, 5937, 5939, 5969, 6016, 6057, 6085, 6096, 6181, 6226, 6241,\n",
       "        6242, 6284, 6288, 6289, 6310, 6325, 6328, 6401, 6447, 6557, 6558,\n",
       "        6566, 6593, 6597, 6598, 6668, 6680, 6757, 6784, 6790, 6792, 6842,\n",
       "        6875, 6885, 6928, 6953, 6960, 6963, 6971, 6977, 6997, 7011, 7097,\n",
       "        7099, 7141]),)"
      ]
     },
     "execution_count": 174,
     "metadata": {},
     "output_type": "execute_result"
    }
   ],
   "source": [
    "threshold=3\n",
    "np.where(zscore>3)"
   ]
  },
  {
   "cell_type": "code",
   "execution_count": 175,
   "id": "32efeceb-ace4-4c9a-bdd5-89ab50e0a76c",
   "metadata": {},
   "outputs": [
    {
     "data": {
      "text/plain": [
       "3.365114459523673"
      ]
     },
     "execution_count": 175,
     "metadata": {},
     "output_type": "execute_result"
    }
   ],
   "source": [
    "zscore[7]"
   ]
  },
  {
   "cell_type": "code",
   "execution_count": 176,
   "id": "abb55684-95fe-4d35-913c-7e098b90ef40",
   "metadata": {},
   "outputs": [],
   "source": [
    "import seaborn as sns"
   ]
  },
  {
   "cell_type": "code",
   "execution_count": 177,
   "id": "2a98e31b-33ec-4f79-9b86-82f3adc6daf3",
   "metadata": {},
   "outputs": [],
   "source": [
    "import matplotlib.pyplot as plt"
   ]
  },
  {
   "cell_type": "code",
   "execution_count": 178,
   "id": "7e307de5-1543-40b7-a124-0463fbdc5c59",
   "metadata": {},
   "outputs": [],
   "source": [
    "features=['Year','Kilometers_Driven','Seats','Price']"
   ]
  },
  {
   "cell_type": "code",
   "execution_count": 179,
   "id": "4c386c48-a81d-438a-a400-af7b78b7b28c",
   "metadata": {},
   "outputs": [
    {
     "data": {
      "text/plain": [
       "<Figure size 1500x1000 with 0 Axes>"
      ]
     },
     "execution_count": 179,
     "metadata": {},
     "output_type": "execute_result"
    },
    {
     "data": {
      "text/plain": [
       "<Figure size 1500x1000 with 0 Axes>"
      ]
     },
     "metadata": {},
     "output_type": "display_data"
    }
   ],
   "source": [
    "plt.figure(figsize=(15,10))"
   ]
  },
  {
   "cell_type": "code",
   "execution_count": 180,
   "id": "48535309-51c2-4fb3-a61f-770fa2b8738e",
   "metadata": {},
   "outputs": [
    {
     "data": {
      "image/png": "[encoded data removed]",
      "text/plain": [
       "<Figure size 640x480 with 4 Axes>"
      ]
     },
     "metadata": {},
     "output_type": "display_data"
    }
   ],
   "source": [
    "for i,feature in enumerate(features,1):\n",
    "    plt.subplot(2,2,i)\n",
    "    sns.boxplot(x=bost[feature])\n",
    "    plt.title(f'Boxplot of{feature}')"
   ]
  },
  {
   "cell_type": "code",
   "execution_count": 181,
   "id": "5b2381a1-a175-441e-aecc-3492734f533f",
   "metadata": {},
   "outputs": [
    {
     "data": {
      "text/plain": [
       "<Figure size 640x480 with 0 Axes>"
      ]
     },
     "metadata": {},
     "output_type": "display_data"
    }
   ],
   "source": [
    "plt.tight_layout()"
   ]
  },
  {
   "cell_type": "code",
   "execution_count": 182,
   "id": "b040b3a5-8025-433f-b8fb-fa7a457ae3f9",
   "metadata": {},
   "outputs": [],
   "source": [
    "plt.show()"
   ]
  },
  {
   "cell_type": "code",
   "execution_count": 183,
   "id": "6efb32dd-77e7-4e5f-91b1-c96d81f572af",
   "metadata": {},
   "outputs": [],
   "source": [
    "def remove_outliers_iqr(bost,feature):\n",
    "    Q1=bost[feature].quantile(0.25)\n",
    "    Q3=bost[feature].quantile(0.75)\n",
    "    IQR=Q3-Q1\n",
    "    lower_bound=Q1-1.5*IQR\n",
    "    upper_bound=Q3=1.5*IQR\n",
    "    return bost[(bost[feature]>=lower_bound)&(bost[feature]<=upper_bound)]"
   ]
  },
  {
   "cell_type": "code",
   "execution_count": 187,
   "id": "b9392096-5dca-4d8a-b3ba-e859ef46cdc5",
   "metadata": {},
   "outputs": [],
   "source": [
    "for feature in features:\n",
    "    bost=remove_outliers_iqr(df,feature)"
   ]
  },
  {
   "cell_type": "code",
   "execution_count": 188,
   "id": "bcd954cd-7bf1-43a4-9419-f5d229b1ba58",
   "metadata": {},
   "outputs": [
    {
     "data": {
      "text/plain": [
       "(4893, 14)"
      ]
     },
     "execution_count": 188,
     "metadata": {},
     "output_type": "execute_result"
    }
   ],
   "source": [
    "bost.shape"
   ]
  },
  {
   "cell_type": "code",
   "execution_count": 189,
   "id": "4a22e91f-e379-450d-8e91-e8747eb7c326",
   "metadata": {},
   "outputs": [
    {
     "data": {
      "text/plain": [
       "(7253, 14)"
      ]
     },
     "execution_count": 189,
     "metadata": {},
     "output_type": "execute_result"
    }
   ],
   "source": [
    "df.shape"
   ]
  },
  {
   "cell_type": "code",
   "execution_count": null,
   "id": "5751323a-5b09-4a28-aa16-a0a8cf7247cf",
   "metadata": {},
   "outputs": [],
   "source": []
  },
  {
   "cell_type": "code",
   "execution_count": 190,
   "id": "8f005727-0f79-4b39-9e4e-8c00465df4f3",
   "metadata": {},
   "outputs": [
    {
     "data": {
      "text/html": [
       "<div>\n",
       "<style scoped>\n",
       "    .dataframe tbody tr th:only-of-type {\n",
       "        vertical-align: middle;\n",
       "    }\n",
       "\n",
       "    .dataframe tbody tr th {\n",
       "        vertical-align: top;\n",
       "    }\n",
       "\n",
       "    .dataframe thead th {\n",
       "        text-align: right;\n",
       "    }\n",
       "</style>\n",
       "<table border=\"1\" class=\"dataframe\">\n",
       "  <thead>\n",
       "    <tr style=\"text-align: right;\">\n",
       "      <th></th>\n",
       "      <th>S.No.</th>\n",
       "      <th>Name</th>\n",
       "      <th>Location</th>\n",
       "      <th>Year</th>\n",
       "      <th>Kilometers_Driven</th>\n",
       "      <th>Fuel_Type</th>\n",
       "      <th>Transmission</th>\n",
       "      <th>Owner_Type</th>\n",
       "      <th>Mileage</th>\n",
       "      <th>Engine</th>\n",
       "      <th>Power</th>\n",
       "      <th>Seats</th>\n",
       "      <th>New_Price</th>\n",
       "      <th>Price</th>\n",
       "    </tr>\n",
       "  </thead>\n",
       "  <tbody>\n",
       "    <tr>\n",
       "      <th>0</th>\n",
       "      <td>0</td>\n",
       "      <td>Maruti Wagon R LXI CNG</td>\n",
       "      <td>Mumbai</td>\n",
       "      <td>2010</td>\n",
       "      <td>72000</td>\n",
       "      <td>CNG</td>\n",
       "      <td>Manual</td>\n",
       "      <td>First</td>\n",
       "      <td>26.6 km/kg</td>\n",
       "      <td>998 CC</td>\n",
       "      <td>58.16 bhp</td>\n",
       "      <td>5.0</td>\n",
       "      <td>NAN</td>\n",
       "      <td>1.75</td>\n",
       "    </tr>\n",
       "    <tr>\n",
       "      <th>2</th>\n",
       "      <td>2</td>\n",
       "      <td>Honda Jazz V</td>\n",
       "      <td>Chennai</td>\n",
       "      <td>2011</td>\n",
       "      <td>46000</td>\n",
       "      <td>Petrol</td>\n",
       "      <td>Manual</td>\n",
       "      <td>First</td>\n",
       "      <td>18.2 kmpl</td>\n",
       "      <td>1199 CC</td>\n",
       "      <td>88.7 bhp</td>\n",
       "      <td>5.0</td>\n",
       "      <td>8.61 Lakh</td>\n",
       "      <td>4.50</td>\n",
       "    </tr>\n",
       "    <tr>\n",
       "      <th>3</th>\n",
       "      <td>3</td>\n",
       "      <td>Maruti Ertiga VDI</td>\n",
       "      <td>Chennai</td>\n",
       "      <td>2012</td>\n",
       "      <td>87000</td>\n",
       "      <td>Diesel</td>\n",
       "      <td>Manual</td>\n",
       "      <td>First</td>\n",
       "      <td>20.77 kmpl</td>\n",
       "      <td>1248 CC</td>\n",
       "      <td>88.76 bhp</td>\n",
       "      <td>7.0</td>\n",
       "      <td>NAN</td>\n",
       "      <td>6.00</td>\n",
       "    </tr>\n",
       "    <tr>\n",
       "      <th>5</th>\n",
       "      <td>5</td>\n",
       "      <td>Hyundai EON LPG Era Plus Option</td>\n",
       "      <td>Hyderabad</td>\n",
       "      <td>2012</td>\n",
       "      <td>75000</td>\n",
       "      <td>LPG</td>\n",
       "      <td>Manual</td>\n",
       "      <td>First</td>\n",
       "      <td>21.1 km/kg</td>\n",
       "      <td>814 CC</td>\n",
       "      <td>55.2 bhp</td>\n",
       "      <td>5.0</td>\n",
       "      <td>NAN</td>\n",
       "      <td>2.35</td>\n",
       "    </tr>\n",
       "    <tr>\n",
       "      <th>6</th>\n",
       "      <td>6</td>\n",
       "      <td>Nissan Micra Diesel XV</td>\n",
       "      <td>Jaipur</td>\n",
       "      <td>2013</td>\n",
       "      <td>86999</td>\n",
       "      <td>Diesel</td>\n",
       "      <td>Manual</td>\n",
       "      <td>First</td>\n",
       "      <td>23.08 kmpl</td>\n",
       "      <td>1461 CC</td>\n",
       "      <td>63.1 bhp</td>\n",
       "      <td>5.0</td>\n",
       "      <td>NAN</td>\n",
       "      <td>3.50</td>\n",
       "    </tr>\n",
       "  </tbody>\n",
       "</table>\n",
       "</div>"
      ],
      "text/plain": [
       "   S.No.                             Name   Location  ...  Seats  New_Price Price\n",
       "0      0           Maruti Wagon R LXI CNG     Mumbai  ...    5.0        NAN  1.75\n",
       "2      2                     Honda Jazz V    Chennai  ...    5.0  8.61 Lakh  4.50\n",
       "3      3                Maruti Ertiga VDI    Chennai  ...    7.0        NAN  6.00\n",
       "5      5  Hyundai EON LPG Era Plus Option  Hyderabad  ...    5.0        NAN  2.35\n",
       "6      6           Nissan Micra Diesel XV     Jaipur  ...    5.0        NAN  3.50\n",
       "\n",
       "[5 rows x 14 columns]"
      ]
     },
     "execution_count": 190,
     "metadata": {},
     "output_type": "execute_result"
    }
   ],
   "source": [
    "bost.head()"
   ]
  },
  {
   "cell_type": "code",
   "execution_count": 191,
   "id": "f730b68e-c189-4639-b684-b2a2f5d31f58",
   "metadata": {},
   "outputs": [],
   "source": [
    "df=df.iloc[:,1:]"
   ]
  },
  {
   "cell_type": "code",
   "execution_count": 192,
   "id": "4b95c96e-801b-4c28-ba80-f997a0793c84",
   "metadata": {},
   "outputs": [
    {
     "data": {
      "text/html": [
       "<div>\n",
       "<style scoped>\n",
       "    .dataframe tbody tr th:only-of-type {\n",
       "        vertical-align: middle;\n",
       "    }\n",
       "\n",
       "    .dataframe tbody tr th {\n",
       "        vertical-align: top;\n",
       "    }\n",
       "\n",
       "    .dataframe thead th {\n",
       "        text-align: right;\n",
       "    }\n",
       "</style>\n",
       "<table border=\"1\" class=\"dataframe\">\n",
       "  <thead>\n",
       "    <tr style=\"text-align: right;\">\n",
       "      <th></th>\n",
       "      <th>Name</th>\n",
       "      <th>Location</th>\n",
       "      <th>Year</th>\n",
       "      <th>Kilometers_Driven</th>\n",
       "      <th>Fuel_Type</th>\n",
       "      <th>Transmission</th>\n",
       "      <th>Owner_Type</th>\n",
       "      <th>Mileage</th>\n",
       "      <th>Engine</th>\n",
       "      <th>Power</th>\n",
       "      <th>Seats</th>\n",
       "      <th>New_Price</th>\n",
       "      <th>Price</th>\n",
       "    </tr>\n",
       "  </thead>\n",
       "  <tbody>\n",
       "    <tr>\n",
       "      <th>0</th>\n",
       "      <td>Maruti Wagon R LXI CNG</td>\n",
       "      <td>Mumbai</td>\n",
       "      <td>2010</td>\n",
       "      <td>72000</td>\n",
       "      <td>CNG</td>\n",
       "      <td>Manual</td>\n",
       "      <td>First</td>\n",
       "      <td>26.6 km/kg</td>\n",
       "      <td>998 CC</td>\n",
       "      <td>58.16 bhp</td>\n",
       "      <td>5.0</td>\n",
       "      <td>NAN</td>\n",
       "      <td>1.75</td>\n",
       "    </tr>\n",
       "    <tr>\n",
       "      <th>1</th>\n",
       "      <td>Hyundai Creta 1.6 CRDi SX Option</td>\n",
       "      <td>Pune</td>\n",
       "      <td>2015</td>\n",
       "      <td>41000</td>\n",
       "      <td>Diesel</td>\n",
       "      <td>Manual</td>\n",
       "      <td>First</td>\n",
       "      <td>19.67 kmpl</td>\n",
       "      <td>1582 CC</td>\n",
       "      <td>126.2 bhp</td>\n",
       "      <td>5.0</td>\n",
       "      <td>NAN</td>\n",
       "      <td>12.50</td>\n",
       "    </tr>\n",
       "    <tr>\n",
       "      <th>2</th>\n",
       "      <td>Honda Jazz V</td>\n",
       "      <td>Chennai</td>\n",
       "      <td>2011</td>\n",
       "      <td>46000</td>\n",
       "      <td>Petrol</td>\n",
       "      <td>Manual</td>\n",
       "      <td>First</td>\n",
       "      <td>18.2 kmpl</td>\n",
       "      <td>1199 CC</td>\n",
       "      <td>88.7 bhp</td>\n",
       "      <td>5.0</td>\n",
       "      <td>8.61 Lakh</td>\n",
       "      <td>4.50</td>\n",
       "    </tr>\n",
       "    <tr>\n",
       "      <th>3</th>\n",
       "      <td>Maruti Ertiga VDI</td>\n",
       "      <td>Chennai</td>\n",
       "      <td>2012</td>\n",
       "      <td>87000</td>\n",
       "      <td>Diesel</td>\n",
       "      <td>Manual</td>\n",
       "      <td>First</td>\n",
       "      <td>20.77 kmpl</td>\n",
       "      <td>1248 CC</td>\n",
       "      <td>88.76 bhp</td>\n",
       "      <td>7.0</td>\n",
       "      <td>NAN</td>\n",
       "      <td>6.00</td>\n",
       "    </tr>\n",
       "    <tr>\n",
       "      <th>4</th>\n",
       "      <td>Audi A4 New 2.0 TDI Multitronic</td>\n",
       "      <td>Coimbatore</td>\n",
       "      <td>2013</td>\n",
       "      <td>40670</td>\n",
       "      <td>Diesel</td>\n",
       "      <td>Automatic</td>\n",
       "      <td>Second</td>\n",
       "      <td>15.2 kmpl</td>\n",
       "      <td>1968 CC</td>\n",
       "      <td>140.8 bhp</td>\n",
       "      <td>5.0</td>\n",
       "      <td>NAN</td>\n",
       "      <td>17.74</td>\n",
       "    </tr>\n",
       "    <tr>\n",
       "      <th>...</th>\n",
       "      <td>...</td>\n",
       "      <td>...</td>\n",
       "      <td>...</td>\n",
       "      <td>...</td>\n",
       "      <td>...</td>\n",
       "      <td>...</td>\n",
       "      <td>...</td>\n",
       "      <td>...</td>\n",
       "      <td>...</td>\n",
       "      <td>...</td>\n",
       "      <td>...</td>\n",
       "      <td>...</td>\n",
       "      <td>...</td>\n",
       "    </tr>\n",
       "    <tr>\n",
       "      <th>7248</th>\n",
       "      <td>Volkswagen Vento Diesel Trendline</td>\n",
       "      <td>Hyderabad</td>\n",
       "      <td>2011</td>\n",
       "      <td>89411</td>\n",
       "      <td>Diesel</td>\n",
       "      <td>Manual</td>\n",
       "      <td>First</td>\n",
       "      <td>20.54 kmpl</td>\n",
       "      <td>1598 CC</td>\n",
       "      <td>103.6 bhp</td>\n",
       "      <td>5.0</td>\n",
       "      <td>NAN</td>\n",
       "      <td>4.50</td>\n",
       "    </tr>\n",
       "    <tr>\n",
       "      <th>7249</th>\n",
       "      <td>Volkswagen Polo GT TSI</td>\n",
       "      <td>Mumbai</td>\n",
       "      <td>2015</td>\n",
       "      <td>59000</td>\n",
       "      <td>Petrol</td>\n",
       "      <td>Automatic</td>\n",
       "      <td>First</td>\n",
       "      <td>17.21 kmpl</td>\n",
       "      <td>1197 CC</td>\n",
       "      <td>103.6 bhp</td>\n",
       "      <td>5.0</td>\n",
       "      <td>NAN</td>\n",
       "      <td>4.50</td>\n",
       "    </tr>\n",
       "    <tr>\n",
       "      <th>7250</th>\n",
       "      <td>Nissan Micra Diesel XV</td>\n",
       "      <td>Kolkata</td>\n",
       "      <td>2012</td>\n",
       "      <td>28000</td>\n",
       "      <td>Diesel</td>\n",
       "      <td>Manual</td>\n",
       "      <td>First</td>\n",
       "      <td>23.08 kmpl</td>\n",
       "      <td>1461 CC</td>\n",
       "      <td>63.1 bhp</td>\n",
       "      <td>5.0</td>\n",
       "      <td>NAN</td>\n",
       "      <td>4.50</td>\n",
       "    </tr>\n",
       "    <tr>\n",
       "      <th>7251</th>\n",
       "      <td>Volkswagen Polo GT TSI</td>\n",
       "      <td>Pune</td>\n",
       "      <td>2013</td>\n",
       "      <td>52262</td>\n",
       "      <td>Petrol</td>\n",
       "      <td>Automatic</td>\n",
       "      <td>Third</td>\n",
       "      <td>17.2 kmpl</td>\n",
       "      <td>1197 CC</td>\n",
       "      <td>103.6 bhp</td>\n",
       "      <td>5.0</td>\n",
       "      <td>NAN</td>\n",
       "      <td>4.50</td>\n",
       "    </tr>\n",
       "    <tr>\n",
       "      <th>7252</th>\n",
       "      <td>Mercedes-Benz E-Class 2009-2013 E 220 CDI Avan...</td>\n",
       "      <td>Kochi</td>\n",
       "      <td>2014</td>\n",
       "      <td>72443</td>\n",
       "      <td>Diesel</td>\n",
       "      <td>Automatic</td>\n",
       "      <td>First</td>\n",
       "      <td>10.0 kmpl</td>\n",
       "      <td>2148 CC</td>\n",
       "      <td>170 bhp</td>\n",
       "      <td>5.0</td>\n",
       "      <td>NAN</td>\n",
       "      <td>4.50</td>\n",
       "    </tr>\n",
       "  </tbody>\n",
       "</table>\n",
       "<p>7253 rows × 13 columns</p>\n",
       "</div>"
      ],
      "text/plain": [
       "                                                   Name  ...  Price\n",
       "0                                Maruti Wagon R LXI CNG  ...   1.75\n",
       "1                      Hyundai Creta 1.6 CRDi SX Option  ...  12.50\n",
       "2                                          Honda Jazz V  ...   4.50\n",
       "3                                     Maruti Ertiga VDI  ...   6.00\n",
       "4                       Audi A4 New 2.0 TDI Multitronic  ...  17.74\n",
       "...                                                 ...  ...    ...\n",
       "7248                  Volkswagen Vento Diesel Trendline  ...   4.50\n",
       "7249                             Volkswagen Polo GT TSI  ...   4.50\n",
       "7250                             Nissan Micra Diesel XV  ...   4.50\n",
       "7251                             Volkswagen Polo GT TSI  ...   4.50\n",
       "7252  Mercedes-Benz E-Class 2009-2013 E 220 CDI Avan...  ...   4.50\n",
       "\n",
       "[7253 rows x 13 columns]"
      ]
     },
     "execution_count": 192,
     "metadata": {},
     "output_type": "execute_result"
    }
   ],
   "source": [
    "df"
   ]
  },
  {
   "cell_type": "code",
   "execution_count": 193,
   "id": "323df5e5-02ec-49a6-a915-ee2eacf162e8",
   "metadata": {},
   "outputs": [],
   "source": [
    "hg=bost.iloc[:,1:]"
   ]
  },
  {
   "cell_type": "code",
   "execution_count": 194,
   "id": "70155f7a-ba1a-4057-8cb0-44723ef7fd63",
   "metadata": {},
   "outputs": [
    {
     "data": {
      "text/html": [
       "<div>\n",
       "<style scoped>\n",
       "    .dataframe tbody tr th:only-of-type {\n",
       "        vertical-align: middle;\n",
       "    }\n",
       "\n",
       "    .dataframe tbody tr th {\n",
       "        vertical-align: top;\n",
       "    }\n",
       "\n",
       "    .dataframe thead th {\n",
       "        text-align: right;\n",
       "    }\n",
       "</style>\n",
       "<table border=\"1\" class=\"dataframe\">\n",
       "  <thead>\n",
       "    <tr style=\"text-align: right;\">\n",
       "      <th></th>\n",
       "      <th>Name</th>\n",
       "      <th>Location</th>\n",
       "      <th>Year</th>\n",
       "      <th>Kilometers_Driven</th>\n",
       "      <th>Fuel_Type</th>\n",
       "      <th>Transmission</th>\n",
       "      <th>Owner_Type</th>\n",
       "      <th>Mileage</th>\n",
       "      <th>Engine</th>\n",
       "      <th>Power</th>\n",
       "      <th>Seats</th>\n",
       "      <th>New_Price</th>\n",
       "      <th>Price</th>\n",
       "    </tr>\n",
       "  </thead>\n",
       "  <tbody>\n",
       "    <tr>\n",
       "      <th>0</th>\n",
       "      <td>Maruti Wagon R LXI CNG</td>\n",
       "      <td>Mumbai</td>\n",
       "      <td>2010</td>\n",
       "      <td>72000</td>\n",
       "      <td>CNG</td>\n",
       "      <td>Manual</td>\n",
       "      <td>First</td>\n",
       "      <td>26.6 km/kg</td>\n",
       "      <td>998 CC</td>\n",
       "      <td>58.16 bhp</td>\n",
       "      <td>5.0</td>\n",
       "      <td>NAN</td>\n",
       "      <td>1.75</td>\n",
       "    </tr>\n",
       "    <tr>\n",
       "      <th>2</th>\n",
       "      <td>Honda Jazz V</td>\n",
       "      <td>Chennai</td>\n",
       "      <td>2011</td>\n",
       "      <td>46000</td>\n",
       "      <td>Petrol</td>\n",
       "      <td>Manual</td>\n",
       "      <td>First</td>\n",
       "      <td>18.2 kmpl</td>\n",
       "      <td>1199 CC</td>\n",
       "      <td>88.7 bhp</td>\n",
       "      <td>5.0</td>\n",
       "      <td>8.61 Lakh</td>\n",
       "      <td>4.50</td>\n",
       "    </tr>\n",
       "    <tr>\n",
       "      <th>3</th>\n",
       "      <td>Maruti Ertiga VDI</td>\n",
       "      <td>Chennai</td>\n",
       "      <td>2012</td>\n",
       "      <td>87000</td>\n",
       "      <td>Diesel</td>\n",
       "      <td>Manual</td>\n",
       "      <td>First</td>\n",
       "      <td>20.77 kmpl</td>\n",
       "      <td>1248 CC</td>\n",
       "      <td>88.76 bhp</td>\n",
       "      <td>7.0</td>\n",
       "      <td>NAN</td>\n",
       "      <td>6.00</td>\n",
       "    </tr>\n",
       "    <tr>\n",
       "      <th>5</th>\n",
       "      <td>Hyundai EON LPG Era Plus Option</td>\n",
       "      <td>Hyderabad</td>\n",
       "      <td>2012</td>\n",
       "      <td>75000</td>\n",
       "      <td>LPG</td>\n",
       "      <td>Manual</td>\n",
       "      <td>First</td>\n",
       "      <td>21.1 km/kg</td>\n",
       "      <td>814 CC</td>\n",
       "      <td>55.2 bhp</td>\n",
       "      <td>5.0</td>\n",
       "      <td>NAN</td>\n",
       "      <td>2.35</td>\n",
       "    </tr>\n",
       "    <tr>\n",
       "      <th>6</th>\n",
       "      <td>Nissan Micra Diesel XV</td>\n",
       "      <td>Jaipur</td>\n",
       "      <td>2013</td>\n",
       "      <td>86999</td>\n",
       "      <td>Diesel</td>\n",
       "      <td>Manual</td>\n",
       "      <td>First</td>\n",
       "      <td>23.08 kmpl</td>\n",
       "      <td>1461 CC</td>\n",
       "      <td>63.1 bhp</td>\n",
       "      <td>5.0</td>\n",
       "      <td>NAN</td>\n",
       "      <td>3.50</td>\n",
       "    </tr>\n",
       "    <tr>\n",
       "      <th>...</th>\n",
       "      <td>...</td>\n",
       "      <td>...</td>\n",
       "      <td>...</td>\n",
       "      <td>...</td>\n",
       "      <td>...</td>\n",
       "      <td>...</td>\n",
       "      <td>...</td>\n",
       "      <td>...</td>\n",
       "      <td>...</td>\n",
       "      <td>...</td>\n",
       "      <td>...</td>\n",
       "      <td>...</td>\n",
       "      <td>...</td>\n",
       "    </tr>\n",
       "    <tr>\n",
       "      <th>7248</th>\n",
       "      <td>Volkswagen Vento Diesel Trendline</td>\n",
       "      <td>Hyderabad</td>\n",
       "      <td>2011</td>\n",
       "      <td>89411</td>\n",
       "      <td>Diesel</td>\n",
       "      <td>Manual</td>\n",
       "      <td>First</td>\n",
       "      <td>20.54 kmpl</td>\n",
       "      <td>1598 CC</td>\n",
       "      <td>103.6 bhp</td>\n",
       "      <td>5.0</td>\n",
       "      <td>NAN</td>\n",
       "      <td>4.50</td>\n",
       "    </tr>\n",
       "    <tr>\n",
       "      <th>7249</th>\n",
       "      <td>Volkswagen Polo GT TSI</td>\n",
       "      <td>Mumbai</td>\n",
       "      <td>2015</td>\n",
       "      <td>59000</td>\n",
       "      <td>Petrol</td>\n",
       "      <td>Automatic</td>\n",
       "      <td>First</td>\n",
       "      <td>17.21 kmpl</td>\n",
       "      <td>1197 CC</td>\n",
       "      <td>103.6 bhp</td>\n",
       "      <td>5.0</td>\n",
       "      <td>NAN</td>\n",
       "      <td>4.50</td>\n",
       "    </tr>\n",
       "    <tr>\n",
       "      <th>7250</th>\n",
       "      <td>Nissan Micra Diesel XV</td>\n",
       "      <td>Kolkata</td>\n",
       "      <td>2012</td>\n",
       "      <td>28000</td>\n",
       "      <td>Diesel</td>\n",
       "      <td>Manual</td>\n",
       "      <td>First</td>\n",
       "      <td>23.08 kmpl</td>\n",
       "      <td>1461 CC</td>\n",
       "      <td>63.1 bhp</td>\n",
       "      <td>5.0</td>\n",
       "      <td>NAN</td>\n",
       "      <td>4.50</td>\n",
       "    </tr>\n",
       "    <tr>\n",
       "      <th>7251</th>\n",
       "      <td>Volkswagen Polo GT TSI</td>\n",
       "      <td>Pune</td>\n",
       "      <td>2013</td>\n",
       "      <td>52262</td>\n",
       "      <td>Petrol</td>\n",
       "      <td>Automatic</td>\n",
       "      <td>Third</td>\n",
       "      <td>17.2 kmpl</td>\n",
       "      <td>1197 CC</td>\n",
       "      <td>103.6 bhp</td>\n",
       "      <td>5.0</td>\n",
       "      <td>NAN</td>\n",
       "      <td>4.50</td>\n",
       "    </tr>\n",
       "    <tr>\n",
       "      <th>7252</th>\n",
       "      <td>Mercedes-Benz E-Class 2009-2013 E 220 CDI Avan...</td>\n",
       "      <td>Kochi</td>\n",
       "      <td>2014</td>\n",
       "      <td>72443</td>\n",
       "      <td>Diesel</td>\n",
       "      <td>Automatic</td>\n",
       "      <td>First</td>\n",
       "      <td>10.0 kmpl</td>\n",
       "      <td>2148 CC</td>\n",
       "      <td>170 bhp</td>\n",
       "      <td>5.0</td>\n",
       "      <td>NAN</td>\n",
       "      <td>4.50</td>\n",
       "    </tr>\n",
       "  </tbody>\n",
       "</table>\n",
       "<p>4893 rows × 13 columns</p>\n",
       "</div>"
      ],
      "text/plain": [
       "                                                   Name  ... Price\n",
       "0                                Maruti Wagon R LXI CNG  ...  1.75\n",
       "2                                          Honda Jazz V  ...  4.50\n",
       "3                                     Maruti Ertiga VDI  ...  6.00\n",
       "5                       Hyundai EON LPG Era Plus Option  ...  2.35\n",
       "6                                Nissan Micra Diesel XV  ...  3.50\n",
       "...                                                 ...  ...   ...\n",
       "7248                  Volkswagen Vento Diesel Trendline  ...  4.50\n",
       "7249                             Volkswagen Polo GT TSI  ...  4.50\n",
       "7250                             Nissan Micra Diesel XV  ...  4.50\n",
       "7251                             Volkswagen Polo GT TSI  ...  4.50\n",
       "7252  Mercedes-Benz E-Class 2009-2013 E 220 CDI Avan...  ...  4.50\n",
       "\n",
       "[4893 rows x 13 columns]"
      ]
     },
     "execution_count": 194,
     "metadata": {},
     "output_type": "execute_result"
    }
   ],
   "source": [
    "hg"
   ]
  },
  {
   "cell_type": "code",
   "execution_count": 195,
   "id": "95ece3f1-1e9e-4f3b-9a52-bd0b2e3a5125",
   "metadata": {},
   "outputs": [],
   "source": [
    "import matplotlib.pyplot\n",
    "import seaborn as sns"
   ]
  },
  {
   "cell_type": "code",
   "execution_count": 199,
   "id": "ec8842f3-b666-491c-bd6c-c5c68e920844",
   "metadata": {},
   "outputs": [
    {
     "name": "stderr",
     "output_type": "stream",
     "text": [
      "/tmp/ipykernel_15084/1518766821.py:4: UserWarning: \n",
      "\n",
      "`distplot` is a deprecated function and will be removed in seaborn v0.14.0.\n",
      "\n",
      "Please adapt your code to use either `displot` (a figure-level function with\n",
      "similar flexibility) or `histplot` (an axes-level function for histograms).\n",
      "\n",
      "For a guide to updating your code to use the new functions, please see\n",
      "https://gist.github.com/mwaskom/de44147ed2974457ad6372750bbe5751\n",
      "\n",
      "  sns.distplot(bost.Kilometers_Driven,bins=30)\n"
     ]
    },
    {
     "data": {
      "image/png": "[encoded data removed]",
      "text/plain": [
       "<Figure size 700x500 with 1 Axes>"
      ]
     },
     "metadata": {},
     "output_type": "display_data"
    }
   ],
   "source": [
    "import matplotlib.pyplot\n",
    "import seaborn as sns\n",
    "sns.set(rc={'figure.figsize':(7,5)})\n",
    "sns.distplot(bost.Kilometers_Driven,bins=30)\n",
    "matplotlib.pyplot.show()"
   ]
  },
  {
   "cell_type": "code",
   "execution_count": 203,
   "id": "301deff5-2e61-4746-a3f0-a5dc05577f1c",
   "metadata": {},
   "outputs": [
    {
     "name": "stdout",
     "output_type": "stream",
     "text": [
      "<class 'pandas.core.frame.DataFrame'>\n",
      "Index: 4893 entries, 0 to 7252\n",
      "Data columns (total 14 columns):\n",
      " #   Column             Non-Null Count  Dtype  \n",
      "---  ------             --------------  -----  \n",
      " 0   S.No.              4893 non-null   int64  \n",
      " 1   Name               4893 non-null   object \n",
      " 2   Location           4893 non-null   object \n",
      " 3   Year               4893 non-null   int64  \n",
      " 4   Kilometers_Driven  4893 non-null   int64  \n",
      " 5   Fuel_Type          4893 non-null   object \n",
      " 6   Transmission       4893 non-null   object \n",
      " 7   Owner_Type         4893 non-null   object \n",
      " 8   Mileage            4893 non-null   object \n",
      " 9   Engine             4893 non-null   object \n",
      " 10  Power              4893 non-null   object \n",
      " 11  Seats              4893 non-null   float64\n",
      " 12  New_Price          4893 non-null   object \n",
      " 13  Price              4893 non-null   float64\n",
      "dtypes: float64(2), int64(3), object(9)\n",
      "memory usage: 573.4+ KB\n"
     ]
    }
   ],
   "source": [
    "bost.info()"
   ]
  },
  {
   "cell_type": "code",
   "execution_count": 210,
   "id": "49fb4e9b-df26-42bb-9f8c-8c8380510802",
   "metadata": {},
   "outputs": [],
   "source": [
    "nk=bost.describe()"
   ]
  },
  {
   "cell_type": "code",
   "execution_count": 211,
   "id": "bfad4cd6-f9c0-437c-b33d-8ebc6495a07e",
   "metadata": {},
   "outputs": [
    {
     "data": {
      "text/html": [
       "<div>\n",
       "<style scoped>\n",
       "    .dataframe tbody tr th:only-of-type {\n",
       "        vertical-align: middle;\n",
       "    }\n",
       "\n",
       "    .dataframe tbody tr th {\n",
       "        vertical-align: top;\n",
       "    }\n",
       "\n",
       "    .dataframe thead th {\n",
       "        text-align: right;\n",
       "    }\n",
       "</style>\n",
       "<table border=\"1\" class=\"dataframe\">\n",
       "  <thead>\n",
       "    <tr style=\"text-align: right;\">\n",
       "      <th></th>\n",
       "      <th>S.No.</th>\n",
       "      <th>Year</th>\n",
       "      <th>Kilometers_Driven</th>\n",
       "      <th>Seats</th>\n",
       "      <th>Price</th>\n",
       "    </tr>\n",
       "  </thead>\n",
       "  <tbody>\n",
       "    <tr>\n",
       "      <th>count</th>\n",
       "      <td>4893.000000</td>\n",
       "      <td>4893.000000</td>\n",
       "      <td>4893.000000</td>\n",
       "      <td>4893.000000</td>\n",
       "      <td>4893.000000</td>\n",
       "    </tr>\n",
       "    <tr>\n",
       "      <th>mean</th>\n",
       "      <td>3939.932148</td>\n",
       "      <td>2012.714081</td>\n",
       "      <td>60435.658696</td>\n",
       "      <td>5.176988</td>\n",
       "      <td>4.076284</td>\n",
       "    </tr>\n",
       "    <tr>\n",
       "      <th>std</th>\n",
       "      <td>2166.171538</td>\n",
       "      <td>3.328468</td>\n",
       "      <td>37503.709286</td>\n",
       "      <td>0.683399</td>\n",
       "      <td>1.361530</td>\n",
       "    </tr>\n",
       "    <tr>\n",
       "      <th>min</th>\n",
       "      <td>0.000000</td>\n",
       "      <td>1996.000000</td>\n",
       "      <td>171.000000</td>\n",
       "      <td>2.000000</td>\n",
       "      <td>0.440000</td>\n",
       "    </tr>\n",
       "    <tr>\n",
       "      <th>25%</th>\n",
       "      <td>2062.000000</td>\n",
       "      <td>2011.000000</td>\n",
       "      <td>36933.000000</td>\n",
       "      <td>5.000000</td>\n",
       "      <td>3.150000</td>\n",
       "    </tr>\n",
       "    <tr>\n",
       "      <th>50%</th>\n",
       "      <td>4016.000000</td>\n",
       "      <td>2013.000000</td>\n",
       "      <td>56838.000000</td>\n",
       "      <td>5.000000</td>\n",
       "      <td>4.500000</td>\n",
       "    </tr>\n",
       "    <tr>\n",
       "      <th>75%</th>\n",
       "      <td>6029.000000</td>\n",
       "      <td>2015.000000</td>\n",
       "      <td>75059.000000</td>\n",
       "      <td>5.000000</td>\n",
       "      <td>4.750000</td>\n",
       "    </tr>\n",
       "    <tr>\n",
       "      <th>max</th>\n",
       "      <td>7252.000000</td>\n",
       "      <td>2019.000000</td>\n",
       "      <td>720000.000000</td>\n",
       "      <td>10.000000</td>\n",
       "      <td>6.820000</td>\n",
       "    </tr>\n",
       "  </tbody>\n",
       "</table>\n",
       "</div>"
      ],
      "text/plain": [
       "             S.No.         Year  Kilometers_Driven        Seats        Price\n",
       "count  4893.000000  4893.000000        4893.000000  4893.000000  4893.000000\n",
       "mean   3939.932148  2012.714081       60435.658696     5.176988     4.076284\n",
       "std    2166.171538     3.328468       37503.709286     0.683399     1.361530\n",
       "min       0.000000  1996.000000         171.000000     2.000000     0.440000\n",
       "25%    2062.000000  2011.000000       36933.000000     5.000000     3.150000\n",
       "50%    4016.000000  2013.000000       56838.000000     5.000000     4.500000\n",
       "75%    6029.000000  2015.000000       75059.000000     5.000000     4.750000\n",
       "max    7252.000000  2019.000000      720000.000000    10.000000     6.820000"
      ]
     },
     "execution_count": 211,
     "metadata": {},
     "output_type": "execute_result"
    }
   ],
   "source": [
    "nk"
   ]
  },
  {
   "cell_type": "code",
   "execution_count": 214,
   "id": "54c2c4aa-c766-4b6b-b210-8dc81e230349",
   "metadata": {},
   "outputs": [
    {
     "data": {
      "text/html": [
       "<div>\n",
       "<style scoped>\n",
       "    .dataframe tbody tr th:only-of-type {\n",
       "        vertical-align: middle;\n",
       "    }\n",
       "\n",
       "    .dataframe tbody tr th {\n",
       "        vertical-align: top;\n",
       "    }\n",
       "\n",
       "    .dataframe thead th {\n",
       "        text-align: right;\n",
       "    }\n",
       "</style>\n",
       "<table border=\"1\" class=\"dataframe\">\n",
       "  <thead>\n",
       "    <tr style=\"text-align: right;\">\n",
       "      <th></th>\n",
       "      <th>S.No.</th>\n",
       "      <th>Year</th>\n",
       "      <th>Kilometers_Driven</th>\n",
       "      <th>Seats</th>\n",
       "      <th>Price</th>\n",
       "    </tr>\n",
       "  </thead>\n",
       "  <tbody>\n",
       "    <tr>\n",
       "      <th>S.No.</th>\n",
       "      <td>1.000000</td>\n",
       "      <td>0.301629</td>\n",
       "      <td>0.645118</td>\n",
       "      <td>0.191023</td>\n",
       "      <td>0.190845</td>\n",
       "    </tr>\n",
       "    <tr>\n",
       "      <th>Year</th>\n",
       "      <td>0.301629</td>\n",
       "      <td>1.000000</td>\n",
       "      <td>-0.072873</td>\n",
       "      <td>0.847683</td>\n",
       "      <td>0.847458</td>\n",
       "    </tr>\n",
       "    <tr>\n",
       "      <th>Kilometers_Driven</th>\n",
       "      <td>0.645118</td>\n",
       "      <td>-0.072873</td>\n",
       "      <td>1.000000</td>\n",
       "      <td>-0.197362</td>\n",
       "      <td>-0.197824</td>\n",
       "    </tr>\n",
       "    <tr>\n",
       "      <th>Seats</th>\n",
       "      <td>0.191023</td>\n",
       "      <td>0.847683</td>\n",
       "      <td>-0.197362</td>\n",
       "      <td>1.000000</td>\n",
       "      <td>1.000000</td>\n",
       "    </tr>\n",
       "    <tr>\n",
       "      <th>Price</th>\n",
       "      <td>0.190845</td>\n",
       "      <td>0.847458</td>\n",
       "      <td>-0.197824</td>\n",
       "      <td>1.000000</td>\n",
       "      <td>1.000000</td>\n",
       "    </tr>\n",
       "  </tbody>\n",
       "</table>\n",
       "</div>"
      ],
      "text/plain": [
       "                      S.No.      Year  Kilometers_Driven     Seats     Price\n",
       "S.No.              1.000000  0.301629           0.645118  0.191023  0.190845\n",
       "Year               0.301629  1.000000          -0.072873  0.847683  0.847458\n",
       "Kilometers_Driven  0.645118 -0.072873           1.000000 -0.197362 -0.197824\n",
       "Seats              0.191023  0.847683          -0.197362  1.000000  1.000000\n",
       "Price              0.190845  0.847458          -0.197824  1.000000  1.000000"
      ]
     },
     "execution_count": 214,
     "metadata": {},
     "output_type": "execute_result"
    }
   ],
   "source": [
    "corr=nk.corr()\n",
    "corr"
   ]
  },
  {
   "cell_type": "code",
   "execution_count": 215,
   "id": "87832a20-8bd6-4338-8dcb-5bbd6117d9fa",
   "metadata": {},
   "outputs": [
    {
     "data": {
      "text/plain": [
       "<Axes: >"
      ]
     },
     "execution_count": 215,
     "metadata": {},
     "output_type": "execute_result"
    },
    {
     "data": {
      "image/png": "[encoded data removed]",
      "text/plain": [
       "<Figure size 800x800 with 2 Axes>"
      ]
     },
     "metadata": {},
     "output_type": "display_data"
    }
   ],
   "source": [
    "corr = nk.corr() \n",
    "matplotlib.pyplot.figure(figsize=(8,8))\n",
    "sns.heatmap(corr, annot=True, cmap='Reds')"
   ]
  },
  {
   "cell_type": "code",
   "execution_count": null,
   "id": "a273a1e0-59c3-41a3-9bb2-2798232f0462",
   "metadata": {},
   "outputs": [],
   "source": []
  }
 ],
 "metadata": {
  "kernelspec": {
   "display_name": "Python 3 (ipykernel)",
   "language": "python",
   "name": "python3"
  },
  "language_info": {
   "codemirror_mode": {
    "name": "ipython",
    "version": 3
   },
   "file_extension": ".py",
   "mimetype": "text/x-python",
   "name": "python",
   "nbconvert_exporter": "python",
   "pygments_lexer": "ipython3",
   "version": "3.10.12"
  }
 },
 "nbformat": 4,
 "nbformat_minor": 5
}
